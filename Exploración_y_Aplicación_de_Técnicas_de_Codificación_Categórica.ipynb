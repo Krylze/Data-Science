{
  "nbformat": 4,
  "nbformat_minor": 0,
  "metadata": {
    "colab": {
      "provenance": [],
      "authorship_tag": "ABX9TyPeRhuTV5bwxpQ7VqZlIjDN",
      "include_colab_link": true
    },
    "kernelspec": {
      "name": "python3",
      "display_name": "Python 3"
    },
    "language_info": {
      "name": "python"
    }
  },
  "cells": [
    {
      "cell_type": "markdown",
      "metadata": {
        "id": "view-in-github",
        "colab_type": "text"
      },
      "source": [
        "<a href=\"https://colab.research.google.com/github/Krylze/Data-Science/blob/main/Exploraci%C3%B3n_y_Aplicaci%C3%B3n_de_T%C3%A9cnicas_de_Codificaci%C3%B3n_Categ%C3%B3rica.ipynb\" target=\"_parent\"><img src=\"https://colab.research.google.com/assets/colab-badge.svg\" alt=\"Open In Colab\"/></a>"
      ]
    },
    {
      "cell_type": "code",
      "source": [
        "from google.colab import drive\n",
        "drive.mount('/content/drive')"
      ],
      "metadata": {
        "colab": {
          "base_uri": "https://localhost:8080/"
        },
        "id": "5RszGqf-txxJ",
        "outputId": "93ff1d31-ef6b-41ea-c017-89347aab8a08"
      },
      "execution_count": null,
      "outputs": [
        {
          "output_type": "stream",
          "name": "stdout",
          "text": [
            "Mounted at /content/drive\n"
          ]
        }
      ]
    },
    {
      "cell_type": "code",
      "execution_count": null,
      "metadata": {
        "id": "PNIZT2m7srho",
        "colab": {
          "base_uri": "https://localhost:8080/"
        },
        "collapsed": true,
        "outputId": "554c0941-647b-4aca-b011-a88b5d63e322"
      },
      "outputs": [
        {
          "output_type": "stream",
          "name": "stdout",
          "text": [
            "Requirement already satisfied: category_encoders in /usr/local/lib/python3.10/dist-packages (2.6.3)\n",
            "Requirement already satisfied: numpy>=1.14.0 in /usr/local/lib/python3.10/dist-packages (from category_encoders) (1.26.4)\n",
            "Requirement already satisfied: scikit-learn>=0.20.0 in /usr/local/lib/python3.10/dist-packages (from category_encoders) (1.3.2)\n",
            "Requirement already satisfied: scipy>=1.0.0 in /usr/local/lib/python3.10/dist-packages (from category_encoders) (1.13.1)\n",
            "Requirement already satisfied: statsmodels>=0.9.0 in /usr/local/lib/python3.10/dist-packages (from category_encoders) (0.14.2)\n",
            "Requirement already satisfied: pandas>=1.0.5 in /usr/local/lib/python3.10/dist-packages (from category_encoders) (2.1.4)\n",
            "Requirement already satisfied: patsy>=0.5.1 in /usr/local/lib/python3.10/dist-packages (from category_encoders) (0.5.6)\n",
            "Requirement already satisfied: python-dateutil>=2.8.2 in /usr/local/lib/python3.10/dist-packages (from pandas>=1.0.5->category_encoders) (2.8.2)\n",
            "Requirement already satisfied: pytz>=2020.1 in /usr/local/lib/python3.10/dist-packages (from pandas>=1.0.5->category_encoders) (2024.2)\n",
            "Requirement already satisfied: tzdata>=2022.1 in /usr/local/lib/python3.10/dist-packages (from pandas>=1.0.5->category_encoders) (2024.1)\n",
            "Requirement already satisfied: six in /usr/local/lib/python3.10/dist-packages (from patsy>=0.5.1->category_encoders) (1.16.0)\n",
            "Requirement already satisfied: joblib>=1.1.1 in /usr/local/lib/python3.10/dist-packages (from scikit-learn>=0.20.0->category_encoders) (1.4.2)\n",
            "Requirement already satisfied: threadpoolctl>=2.0.0 in /usr/local/lib/python3.10/dist-packages (from scikit-learn>=0.20.0->category_encoders) (3.5.0)\n",
            "Requirement already satisfied: packaging>=21.3 in /usr/local/lib/python3.10/dist-packages (from statsmodels>=0.9.0->category_encoders) (24.1)\n"
          ]
        }
      ],
      "source": [
        "!pip install category_encoders\n",
        "import pandas as pd\n",
        "from category_encoders import TargetEncoder"
      ]
    },
    {
      "cell_type": "code",
      "source": [
        "data = pd.read_csv('/content/drive/MyDrive/Ciencia de Datos/Data/Housing.csv')\n",
        "data.head()\n",
        "print(data.head(11))"
      ],
      "metadata": {
        "colab": {
          "base_uri": "https://localhost:8080/"
        },
        "id": "2LFw7EdUuTje",
        "outputId": "fc50e1d3-dd55-429a-a83a-675428ba9bbb"
      },
      "execution_count": null,
      "outputs": [
        {
          "output_type": "stream",
          "name": "stdout",
          "text": [
            "       price   area  bedrooms  bathrooms  stories mainroad guestroom basement  \\\n",
            "0   13300000   7420         4          2        3      yes        no       no   \n",
            "1   12250000   8960         4          4        4      yes        no       no   \n",
            "2   12250000   9960         3          2        2      yes        no      yes   \n",
            "3   12215000   7500         4          2        2      yes        no      yes   \n",
            "4   11410000   7420         4          1        2      yes       yes      yes   \n",
            "5   10850000   7500         3          3        1      yes        no      yes   \n",
            "6   10150000   8580         4          3        4      yes        no       no   \n",
            "7   10150000  16200         5          3        2      yes        no       no   \n",
            "8    9870000   8100         4          1        2      yes       yes      yes   \n",
            "9    9800000   5750         3          2        4      yes       yes       no   \n",
            "10   9800000  13200         3          1        2      yes        no      yes   \n",
            "\n",
            "   hotwaterheating airconditioning  parking prefarea furnishingstatus  \n",
            "0               no             yes        2      yes        furnished  \n",
            "1               no             yes        3       no        furnished  \n",
            "2               no              no        2      yes   semi-furnished  \n",
            "3               no             yes        3      yes        furnished  \n",
            "4               no             yes        2       no        furnished  \n",
            "5               no             yes        2      yes   semi-furnished  \n",
            "6               no             yes        2      yes   semi-furnished  \n",
            "7               no              no        0       no      unfurnished  \n",
            "8               no             yes        2      yes        furnished  \n",
            "9               no             yes        1      yes      unfurnished  \n",
            "10              no             yes        2      yes        furnished  \n"
          ]
        }
      ]
    },
    {
      "cell_type": "markdown",
      "source": [
        "# Target Encoding  \n",
        "Reemplaza cada categoría con el promedio de la variable objetivo para esa categoría."
      ],
      "metadata": {
        "id": "zK1TlGljzcl1"
      }
    },
    {
      "cell_type": "code",
      "source": [
        "cat = data['price'].groupby(data['mainroad']).agg(['mean', 'count'])\n",
        "cat2 = data['bedrooms'].groupby(data['guestroom']).agg(['mean', 'count'])\n",
        "print(cat)\n",
        "print(cat2)"
      ],
      "metadata": {
        "colab": {
          "base_uri": "https://localhost:8080/"
        },
        "collapsed": true,
        "id": "WldLrBXPzcGG",
        "outputId": "4159e6fd-ac9b-49f1-f822-8103cbad44a5"
      },
      "execution_count": null,
      "outputs": [
        {
          "output_type": "stream",
          "name": "stdout",
          "text": [
            "                  mean  count\n",
            "mainroad                     \n",
            "no        3.398905e+06     77\n",
            "yes       4.991777e+06    468\n",
            "               mean  count\n",
            "guestroom                 \n",
            "no         2.937500    448\n",
            "yes        3.092784     97\n"
          ]
        }
      ]
    },
    {
      "cell_type": "markdown",
      "source": [
        "`return_df=True`: Significa que va regresar el data frame.\n",
        "\n",
        "`handle_missing='value'`: cómo se deben manejar los valores faltantes en la variable categórica que se está codificando.\n",
        "\n",
        "`min_samples_leaf=20`: se utiliza para especificar el número mínimo de muestras que deben estar presentes en una hoja del árbol de decisión\n",
        "\n",
        "`smoothing=1.0`: balance the categorical average versus the prior the higher value means stronger regularization the value must be strictly bigger than zero\n",
        "\n"
      ],
      "metadata": {
        "id": "UpvQFgq9-fXT"
      }
    },
    {
      "cell_type": "code",
      "source": [
        "encoding = TargetEncoder(return_df=True, handle_missing='value', handle_unknown='value', min_samples_leaf=20, smoothing=1.0)\n",
        "data ['mainroad'] = encoding.fit_transform(data['mainroad'], data['price'])\n",
        "data ['guestroom'] = encoding.fit_transform(data['guestroom'], data['bedrooms'])\n",
        "print(data.sample(11))"
      ],
      "metadata": {
        "colab": {
          "base_uri": "https://localhost:8080/"
        },
        "id": "a3YVIIv-3xBb",
        "outputId": "97dd00e3-4719-453b-d548-70e3819b49ad"
      },
      "execution_count": null,
      "outputs": [
        {
          "output_type": "stream",
          "name": "stdout",
          "text": [
            "       price  area  bedrooms  bathrooms  stories      mainroad  guestroom  \\\n",
            "335  3920000  3816         2          1        1  4.991777e+06   2.937500   \n",
            "430  3290000  2500         2          1        1  3.398905e+06   2.937500   \n",
            "124  5950000  6525         3          2        4  4.991777e+06   2.937500   \n",
            "493  2800000  3960         3          1        1  4.991777e+06   2.937500   \n",
            "449  3150000  1650         3          1        2  3.398905e+06   2.937500   \n",
            "52   7350000  6000         4          2        4  4.991777e+06   3.092784   \n",
            "412  3430000  2610         3          1        2  4.991777e+06   2.937500   \n",
            "413  3430000  1950         3          2        2  4.991777e+06   2.937500   \n",
            "437  3290000  5880         3          1        1  4.991777e+06   2.937500   \n",
            "528  2275000  3970         1          1        1  3.398905e+06   2.937500   \n",
            "103  6195000  6350         3          2        3  4.991777e+06   3.092784   \n",
            "\n",
            "    basement hotwaterheating airconditioning  parking prefarea  \\\n",
            "335      yes              no             yes        2       no   \n",
            "430       no              no             yes        0       no   \n",
            "124       no              no              no        1       no   \n",
            "493       no              no              no        0       no   \n",
            "449      yes              no              no        0       no   \n",
            "52        no              no             yes        1       no   \n",
            "412      yes              no              no        0      yes   \n",
            "413      yes              no              no        0      yes   \n",
            "437       no              no              no        1       no   \n",
            "528       no              no              no        0       no   \n",
            "103       no              no             yes        0       no   \n",
            "\n",
            "    furnishingstatus  \n",
            "335        furnished  \n",
            "430      unfurnished  \n",
            "124        furnished  \n",
            "493        furnished  \n",
            "449      unfurnished  \n",
            "52         furnished  \n",
            "412      unfurnished  \n",
            "413      unfurnished  \n",
            "437      unfurnished  \n",
            "528      unfurnished  \n",
            "103        furnished  \n"
          ]
        }
      ]
    },
    {
      "cell_type": "markdown",
      "source": [
        "Se remplazo la columna de main road y guestroom que son categoricos por el promedio, para el promedio utilize la columna de precio para el mainroad y la columna de bedrooms para el bathroom"
      ],
      "metadata": {
        "id": "627o7eW4joJ8"
      }
    },
    {
      "cell_type": "markdown",
      "source": [
        "# Frequency Encoding\n",
        "Reemplaza cada categoría con la frecuencia con la que aparece en el dataset, dividiendo la frecuencia por el número total de observaciones para normalizarla."
      ],
      "metadata": {
        "id": "6HxXh0XMEABm"
      }
    },
    {
      "cell_type": "code",
      "source": [
        "dataFreq = data.copy()\n",
        "freq = data.groupby('furnishingstatus').size()\n",
        "print(freq)"
      ],
      "metadata": {
        "colab": {
          "base_uri": "https://localhost:8080/"
        },
        "collapsed": true,
        "id": "ZNzjQSMWHiUm",
        "outputId": "9c75e30f-6997-482f-9c64-594c7ae92a18"
      },
      "execution_count": null,
      "outputs": [
        {
          "output_type": "stream",
          "name": "stdout",
          "text": [
            "furnishingstatus\n",
            "furnished         140\n",
            "semi-furnished    227\n",
            "unfurnished       178\n",
            "dtype: int64\n"
          ]
        }
      ]
    },
    {
      "cell_type": "code",
      "source": [
        "freqDis= freq/len(data)\n",
        "print(freqDis)"
      ],
      "metadata": {
        "colab": {
          "base_uri": "https://localhost:8080/"
        },
        "collapsed": true,
        "id": "dmn9Dn4BIfxk",
        "outputId": "09399525-1946-4cf5-e764-1690d96a5ba0"
      },
      "execution_count": null,
      "outputs": [
        {
          "output_type": "stream",
          "name": "stdout",
          "text": [
            "furnishingstatus\n",
            "furnished         0.256881\n",
            "semi-furnished    0.416514\n",
            "unfurnished       0.326606\n",
            "dtype: float64\n"
          ]
        }
      ]
    },
    {
      "cell_type": "code",
      "source": [
        "dfFreq = dataFreq['furnishingstatusFreq'] = dataFreq['furnishingstatus'].map(freqDis)\n",
        "print(dataFreq.head(11))"
      ],
      "metadata": {
        "colab": {
          "base_uri": "https://localhost:8080/"
        },
        "collapsed": true,
        "id": "0PcdPcB7JeP-",
        "outputId": "08ca0f1a-b07e-47e3-da13-4f944cbe54e5"
      },
      "execution_count": null,
      "outputs": [
        {
          "output_type": "stream",
          "name": "stdout",
          "text": [
            "       price   area  bedrooms  bathrooms  stories mainroad guestroom basement  \\\n",
            "0   13300000   7420         4          2        3      yes        no       no   \n",
            "1   12250000   8960         4          4        4      yes        no       no   \n",
            "2   12250000   9960         3          2        2      yes        no      yes   \n",
            "3   12215000   7500         4          2        2      yes        no      yes   \n",
            "4   11410000   7420         4          1        2      yes       yes      yes   \n",
            "5   10850000   7500         3          3        1      yes        no      yes   \n",
            "6   10150000   8580         4          3        4      yes        no       no   \n",
            "7   10150000  16200         5          3        2      yes        no       no   \n",
            "8    9870000   8100         4          1        2      yes       yes      yes   \n",
            "9    9800000   5750         3          2        4      yes       yes       no   \n",
            "10   9800000  13200         3          1        2      yes        no      yes   \n",
            "\n",
            "   hotwaterheating airconditioning  parking prefarea furnishingstatus  \\\n",
            "0               no             yes        2      yes        furnished   \n",
            "1               no             yes        3       no        furnished   \n",
            "2               no              no        2      yes   semi-furnished   \n",
            "3               no             yes        3      yes        furnished   \n",
            "4               no             yes        2       no        furnished   \n",
            "5               no             yes        2      yes   semi-furnished   \n",
            "6               no             yes        2      yes   semi-furnished   \n",
            "7               no              no        0       no      unfurnished   \n",
            "8               no             yes        2      yes        furnished   \n",
            "9               no             yes        1      yes      unfurnished   \n",
            "10              no             yes        2      yes        furnished   \n",
            "\n",
            "    furnishingstatusFreq  \n",
            "0               0.256881  \n",
            "1               0.256881  \n",
            "2               0.416514  \n",
            "3               0.256881  \n",
            "4               0.256881  \n",
            "5               0.416514  \n",
            "6               0.416514  \n",
            "7               0.326606  \n",
            "8               0.256881  \n",
            "9               0.326606  \n",
            "10              0.256881  \n"
          ]
        }
      ]
    },
    {
      "cell_type": "code",
      "source": [
        "dfEncoded = pd.get_dummies(dataFreq, columns=['furnishingstatus'])\n",
        "dfEncoded ['furnishingstatus_furnished'] = dfEncoded ['furnishingstatus_furnished'].astype(int)\n",
        "dfEncoded ['furnishingstatus_semi-furnished'] = dfEncoded ['furnishingstatus_semi-furnished'].astype(int)\n",
        "dfEncoded ['furnishingstatus_unfurnished']= dfEncoded ['furnishingstatus_unfurnished'].astype(int)\n",
        "print(dfEncoded.head(11))"
      ],
      "metadata": {
        "colab": {
          "base_uri": "https://localhost:8080/"
        },
        "id": "U6vQWsfVRNez",
        "outputId": "2cc24163-4351-413f-ad60-042f5797f840"
      },
      "execution_count": null,
      "outputs": [
        {
          "output_type": "stream",
          "name": "stdout",
          "text": [
            "       price   area  bedrooms  bathrooms  stories mainroad guestroom basement  \\\n",
            "0   13300000   7420         4          2        3      yes        no       no   \n",
            "1   12250000   8960         4          4        4      yes        no       no   \n",
            "2   12250000   9960         3          2        2      yes        no      yes   \n",
            "3   12215000   7500         4          2        2      yes        no      yes   \n",
            "4   11410000   7420         4          1        2      yes       yes      yes   \n",
            "5   10850000   7500         3          3        1      yes        no      yes   \n",
            "6   10150000   8580         4          3        4      yes        no       no   \n",
            "7   10150000  16200         5          3        2      yes        no       no   \n",
            "8    9870000   8100         4          1        2      yes       yes      yes   \n",
            "9    9800000   5750         3          2        4      yes       yes       no   \n",
            "10   9800000  13200         3          1        2      yes        no      yes   \n",
            "\n",
            "   hotwaterheating airconditioning  parking prefarea  furnishingstatusFreq  \\\n",
            "0               no             yes        2      yes              0.256881   \n",
            "1               no             yes        3       no              0.256881   \n",
            "2               no              no        2      yes              0.416514   \n",
            "3               no             yes        3      yes              0.256881   \n",
            "4               no             yes        2       no              0.256881   \n",
            "5               no             yes        2      yes              0.416514   \n",
            "6               no             yes        2      yes              0.416514   \n",
            "7               no              no        0       no              0.326606   \n",
            "8               no             yes        2      yes              0.256881   \n",
            "9               no             yes        1      yes              0.326606   \n",
            "10              no             yes        2      yes              0.256881   \n",
            "\n",
            "    furnishingstatus_furnished  furnishingstatus_semi-furnished  \\\n",
            "0                            1                                0   \n",
            "1                            1                                0   \n",
            "2                            0                                1   \n",
            "3                            1                                0   \n",
            "4                            1                                0   \n",
            "5                            0                                1   \n",
            "6                            0                                1   \n",
            "7                            0                                0   \n",
            "8                            1                                0   \n",
            "9                            0                                0   \n",
            "10                           1                                0   \n",
            "\n",
            "    furnishingstatus_unfurnished  \n",
            "0                              0  \n",
            "1                              0  \n",
            "2                              0  \n",
            "3                              0  \n",
            "4                              0  \n",
            "5                              0  \n",
            "6                              0  \n",
            "7                              1  \n",
            "8                              0  \n",
            "9                              1  \n",
            "10                             0  \n"
          ]
        }
      ]
    },
    {
      "cell_type": "markdown",
      "source": [
        "En esta parte, utilizando la columna de frecuency status lo que hice es sacar la frecuencia de cada uno de las unfurnished, semi-furnished y furnished y por ello remplazarlo y hacer una comparacion con el hot encoding. Lo cual se puede resumir que en frecuency encoding reduce la dimensionalidad y aprevecha la importancia de las categorias  mientras que one hot encoding trata de manera equitativa las categorias"
      ],
      "metadata": {
        "id": "Ja9utgmzl0rN"
      }
    },
    {
      "cell_type": "markdown",
      "source": [
        "#  Binary Encoding\n",
        "Convierte las categorías en números enteros, luego estos números enteros se representan en formato binario, y cada bit del número binario se convierte en una columna separada."
      ],
      "metadata": {
        "id": "u-RQy4emXug0"
      }
    },
    {
      "cell_type": "code",
      "source": [
        "import category_encoders as ce\n",
        "dataBin = data.copy()\n",
        "bin = ce.BinaryEncoder(cols=['furnishingstatus'], return_df=True)\n",
        "dataBin = bin.fit_transform(dataBin)\n",
        "print(dataBin[['furnishingstatus_0', 'furnishingstatus_1']].head(11))"
      ],
      "metadata": {
        "colab": {
          "base_uri": "https://localhost:8080/"
        },
        "id": "Yv7EwAlJX6GT",
        "outputId": "7113a92c-824b-4cd6-c29d-970884117a86"
      },
      "execution_count": null,
      "outputs": [
        {
          "output_type": "stream",
          "name": "stdout",
          "text": [
            "    furnishingstatus_0  furnishingstatus_1\n",
            "0                    0                   1\n",
            "1                    0                   1\n",
            "2                    1                   0\n",
            "3                    0                   1\n",
            "4                    0                   1\n",
            "5                    1                   0\n",
            "6                    1                   0\n",
            "7                    1                   1\n",
            "8                    0                   1\n",
            "9                    1                   1\n",
            "10                   0                   1\n"
          ]
        }
      ]
    },
    {
      "cell_type": "markdown",
      "source": [
        "categoria 1 = furnished\n",
        "categoria 2 = semi-furnished\n",
        "categoria 3 = unfurnished"
      ],
      "metadata": {
        "id": "OfJGTea7olp_"
      }
    },
    {
      "cell_type": "code",
      "source": [
        "print(bin)"
      ],
      "metadata": {
        "colab": {
          "base_uri": "https://localhost:8080/"
        },
        "id": "6QQjNSrJnmY_",
        "outputId": "2874891f-e0ea-4ff8-c155-9ad8a2b8587a"
      },
      "execution_count": null,
      "outputs": [
        {
          "output_type": "stream",
          "name": "stdout",
          "text": [
            "BinaryEncoder(cols=['furnishingstatus'],\n",
            "              mapping=[{'col': 'furnishingstatus',\n",
            "                        'mapping':     furnishingstatus_0  furnishingstatus_1\n",
            " 1                   0                   1\n",
            " 2                   1                   0\n",
            " 3                   1                   1\n",
            "-1                   0                   0\n",
            "-2                   0                   0}])\n"
          ]
        }
      ]
    },
    {
      "cell_type": "code",
      "source": [
        "print(f\"Numero de columnas original {data.shape[1]}\")\n",
        "print(f\"Numero de columnas con Binary coding {dataBin.shape[1]}\")"
      ],
      "metadata": {
        "colab": {
          "base_uri": "https://localhost:8080/"
        },
        "id": "i1_PZniupPsl",
        "outputId": "570ddb03-b841-4bb3-cf7c-203808c60576"
      },
      "execution_count": null,
      "outputs": [
        {
          "output_type": "stream",
          "name": "stdout",
          "text": [
            "Numero de columnas original 13\n",
            "Numero de columnas con Binary coding 14\n"
          ]
        }
      ]
    },
    {
      "cell_type": "markdown",
      "source": [
        "En esta parte de codigo escogi la columna furnishing status y utilizando el binary encoding se transfomo en numero de  binarios y se redujo el numero de columnas\n"
      ],
      "metadata": {
        "id": "vynYP15xofk1"
      }
    },
    {
      "cell_type": "markdown",
      "source": [
        "# Hashing Encoding\n",
        "Utiliza una función de hash para transformar los valores categóricos en enteros y luego los asigna a un número fijo de bins o espacios."
      ],
      "metadata": {
        "id": "BpXpWr4hqZyy"
      }
    },
    {
      "cell_type": "code",
      "source": [
        "dataHash = data.copy()\n",
        "hash = ce.HashingEncoder(cols=['prefarea'], n_components=2, return_df=True)\n",
        "dataHash = hash.fit_transform(dataHash)\n",
        "print(dataHash.head(11))"
      ],
      "metadata": {
        "colab": {
          "base_uri": "https://localhost:8080/"
        },
        "id": "hcXFqxHQAZPJ",
        "outputId": "1d72f23f-1e80-4a75-a9b4-7b7f259f3a40"
      },
      "execution_count": null,
      "outputs": [
        {
          "output_type": "stream",
          "name": "stdout",
          "text": [
            "    col_0  col_1     price   area  bedrooms  bathrooms  stories mainroad  \\\n",
            "0       1      0  13300000   7420         4          2        3      yes   \n",
            "1       0      1  12250000   8960         4          4        4      yes   \n",
            "2       1      0  12250000   9960         3          2        2      yes   \n",
            "3       1      0  12215000   7500         4          2        2      yes   \n",
            "4       0      1  11410000   7420         4          1        2      yes   \n",
            "5       1      0  10850000   7500         3          3        1      yes   \n",
            "6       1      0  10150000   8580         4          3        4      yes   \n",
            "7       0      1  10150000  16200         5          3        2      yes   \n",
            "8       1      0   9870000   8100         4          1        2      yes   \n",
            "9       1      0   9800000   5750         3          2        4      yes   \n",
            "10      1      0   9800000  13200         3          1        2      yes   \n",
            "\n",
            "   guestroom basement hotwaterheating airconditioning  parking  \\\n",
            "0         no       no              no             yes        2   \n",
            "1         no       no              no             yes        3   \n",
            "2         no      yes              no              no        2   \n",
            "3         no      yes              no             yes        3   \n",
            "4        yes      yes              no             yes        2   \n",
            "5         no      yes              no             yes        2   \n",
            "6         no       no              no             yes        2   \n",
            "7         no       no              no              no        0   \n",
            "8        yes      yes              no             yes        2   \n",
            "9        yes       no              no             yes        1   \n",
            "10        no      yes              no             yes        2   \n",
            "\n",
            "   furnishingstatus  \n",
            "0         furnished  \n",
            "1         furnished  \n",
            "2    semi-furnished  \n",
            "3         furnished  \n",
            "4         furnished  \n",
            "5    semi-furnished  \n",
            "6    semi-furnished  \n",
            "7       unfurnished  \n",
            "8         furnished  \n",
            "9       unfurnished  \n",
            "10        furnished  \n"
          ]
        }
      ]
    },
    {
      "cell_type": "code",
      "source": [
        "dataHash = data.copy()\n",
        "hash = ce.HashingEncoder(cols=['prefarea'], n_components=5, return_df=True)\n",
        "dataHash = hash.fit_transform(dataHash)\n",
        "print(dataHash.head(11))"
      ],
      "metadata": {
        "id": "ANQnkKvNH_yp",
        "outputId": "252d135b-e14b-4af5-92d7-380194d529a0",
        "colab": {
          "base_uri": "https://localhost:8080/"
        }
      },
      "execution_count": null,
      "outputs": [
        {
          "output_type": "stream",
          "name": "stdout",
          "text": [
            "    col_0  col_1  col_2  col_3  col_4     price   area  bedrooms  bathrooms  \\\n",
            "0       1      0      0      0      0  13300000   7420         4          2   \n",
            "1       0      0      0      0      1  12250000   8960         4          4   \n",
            "2       1      0      0      0      0  12250000   9960         3          2   \n",
            "3       1      0      0      0      0  12215000   7500         4          2   \n",
            "4       0      0      0      0      1  11410000   7420         4          1   \n",
            "5       1      0      0      0      0  10850000   7500         3          3   \n",
            "6       1      0      0      0      0  10150000   8580         4          3   \n",
            "7       0      0      0      0      1  10150000  16200         5          3   \n",
            "8       1      0      0      0      0   9870000   8100         4          1   \n",
            "9       1      0      0      0      0   9800000   5750         3          2   \n",
            "10      1      0      0      0      0   9800000  13200         3          1   \n",
            "\n",
            "    stories mainroad guestroom basement hotwaterheating airconditioning  \\\n",
            "0         3      yes        no       no              no             yes   \n",
            "1         4      yes        no       no              no             yes   \n",
            "2         2      yes        no      yes              no              no   \n",
            "3         2      yes        no      yes              no             yes   \n",
            "4         2      yes       yes      yes              no             yes   \n",
            "5         1      yes        no      yes              no             yes   \n",
            "6         4      yes        no       no              no             yes   \n",
            "7         2      yes        no       no              no              no   \n",
            "8         2      yes       yes      yes              no             yes   \n",
            "9         4      yes       yes       no              no             yes   \n",
            "10        2      yes        no      yes              no             yes   \n",
            "\n",
            "    parking furnishingstatus  \n",
            "0         2        furnished  \n",
            "1         3        furnished  \n",
            "2         2   semi-furnished  \n",
            "3         3        furnished  \n",
            "4         2        furnished  \n",
            "5         2   semi-furnished  \n",
            "6         2   semi-furnished  \n",
            "7         0      unfurnished  \n",
            "8         2        furnished  \n",
            "9         1      unfurnished  \n",
            "10        2        furnished  \n"
          ]
        }
      ]
    },
    {
      "cell_type": "markdown",
      "source": [
        "Se utilizo el hashing encoding en la columna prfarea `n_components=2` --> esta parte de codigo nos dice cuantas comunas deseamos generar pero a diferencia de binary y onehot porque mapea las categorías a valores numéricos de manera aleatoria utilizando una función hash, lo que puede producir colisiones"
      ],
      "metadata": {
        "id": "9hQcJLcwp1lL"
      }
    }
  ]
}