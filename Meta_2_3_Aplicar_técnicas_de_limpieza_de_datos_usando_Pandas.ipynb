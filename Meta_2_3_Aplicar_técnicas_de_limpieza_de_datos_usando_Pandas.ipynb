{
  "nbformat": 4,
  "nbformat_minor": 0,
  "metadata": {
    "colab": {
      "provenance": [],
      "authorship_tag": "ABX9TyN38PtwetnvDs1vtI8ueRPO",
      "include_colab_link": true
    },
    "kernelspec": {
      "name": "python3",
      "display_name": "Python 3"
    },
    "language_info": {
      "name": "python"
    }
  },
  "cells": [
    {
      "cell_type": "markdown",
      "metadata": {
        "id": "view-in-github",
        "colab_type": "text"
      },
      "source": [
        "<a href=\"https://colab.research.google.com/github/Krylze/Data-Science/blob/main/Meta_2_3_Aplicar_t%C3%A9cnicas_de_limpieza_de_datos_usando_Pandas.ipynb\" target=\"_parent\"><img src=\"https://colab.research.google.com/assets/colab-badge.svg\" alt=\"Open In Colab\"/></a>"
      ]
    },
    {
      "cell_type": "code",
      "execution_count": null,
      "metadata": {
        "id": "DvnDFQIitekq"
      },
      "outputs": [],
      "source": [
        "import seaborn as sns\n",
        "import pandas as pd\n"
      ]
    },
    {
      "cell_type": "code",
      "source": [
        "dfTaxis = sns.load_dataset('taxis')\n",
        "print(dfTaxis.head(5))"
      ],
      "metadata": {
        "colab": {
          "base_uri": "https://localhost:8080/"
        },
        "id": "KB9CnfPTutQo",
        "outputId": "16c52def-9a6d-4d45-b562-55410effd958"
      },
      "execution_count": null,
      "outputs": [
        {
          "output_type": "stream",
          "name": "stdout",
          "text": [
            "               pickup             dropoff  passengers  distance  fare   tip  \\\n",
            "0 2019-03-23 20:21:09 2019-03-23 20:27:24           1      1.60   7.0  2.15   \n",
            "1 2019-03-04 16:11:55 2019-03-04 16:19:00           1      0.79   5.0  0.00   \n",
            "2 2019-03-27 17:53:01 2019-03-27 18:00:25           1      1.37   7.5  2.36   \n",
            "3 2019-03-10 01:23:59 2019-03-10 01:49:51           1      7.70  27.0  6.15   \n",
            "4 2019-03-30 13:27:42 2019-03-30 13:37:14           3      2.16   9.0  1.10   \n",
            "\n",
            "   tolls  total   color      payment            pickup_zone  \\\n",
            "0    0.0  12.95  yellow  credit card        Lenox Hill West   \n",
            "1    0.0   9.30  yellow         cash  Upper West Side South   \n",
            "2    0.0  14.16  yellow  credit card          Alphabet City   \n",
            "3    0.0  36.95  yellow  credit card              Hudson Sq   \n",
            "4    0.0  13.40  yellow  credit card           Midtown East   \n",
            "\n",
            "            dropoff_zone pickup_borough dropoff_borough  \n",
            "0    UN/Turtle Bay South      Manhattan       Manhattan  \n",
            "1  Upper West Side South      Manhattan       Manhattan  \n",
            "2           West Village      Manhattan       Manhattan  \n",
            "3         Yorkville West      Manhattan       Manhattan  \n",
            "4         Yorkville West      Manhattan       Manhattan  \n"
          ]
        }
      ]
    },
    {
      "cell_type": "code",
      "source": [
        "print(dfTaxis.info())\n",
        "print(dfTaxis.describe())"
      ],
      "metadata": {
        "colab": {
          "base_uri": "https://localhost:8080/"
        },
        "id": "xUfCZrQYzqoC",
        "outputId": "a520c332-a1fa-404b-ec84-62cf7411f346"
      },
      "execution_count": null,
      "outputs": [
        {
          "output_type": "stream",
          "name": "stdout",
          "text": [
            "<class 'pandas.core.frame.DataFrame'>\n",
            "RangeIndex: 6433 entries, 0 to 6432\n",
            "Data columns (total 14 columns):\n",
            " #   Column           Non-Null Count  Dtype         \n",
            "---  ------           --------------  -----         \n",
            " 0   pickup           6433 non-null   datetime64[ns]\n",
            " 1   dropoff          6433 non-null   datetime64[ns]\n",
            " 2   passengers       6433 non-null   int64         \n",
            " 3   distance         6433 non-null   float64       \n",
            " 4   fare             6433 non-null   float64       \n",
            " 5   tip              6433 non-null   float64       \n",
            " 6   tolls            6433 non-null   float64       \n",
            " 7   total            6433 non-null   float64       \n",
            " 8   color            6433 non-null   object        \n",
            " 9   payment          6389 non-null   object        \n",
            " 10  pickup_zone      6407 non-null   object        \n",
            " 11  dropoff_zone     6388 non-null   object        \n",
            " 12  pickup_borough   6407 non-null   object        \n",
            " 13  dropoff_borough  6388 non-null   object        \n",
            "dtypes: datetime64[ns](2), float64(5), int64(1), object(6)\n",
            "memory usage: 703.7+ KB\n",
            "None\n",
            "                              pickup                        dropoff  \\\n",
            "count                           6433                           6433   \n",
            "mean   2019-03-16 08:31:28.514223616  2019-03-16 08:45:49.491217408   \n",
            "min              2019-02-28 23:29:03            2019-02-28 23:32:35   \n",
            "25%              2019-03-08 15:50:34            2019-03-08 16:12:51   \n",
            "50%              2019-03-15 21:46:58            2019-03-15 22:06:44   \n",
            "75%              2019-03-23 17:41:38            2019-03-23 17:51:56   \n",
            "max              2019-03-31 23:43:45            2019-04-01 00:13:58   \n",
            "std                              NaN                            NaN   \n",
            "\n",
            "        passengers     distance         fare         tip        tolls  \\\n",
            "count  6433.000000  6433.000000  6433.000000  6433.00000  6433.000000   \n",
            "mean      1.539251     3.024617    13.091073     1.97922     0.325273   \n",
            "min       0.000000     0.000000     1.000000     0.00000     0.000000   \n",
            "25%       1.000000     0.980000     6.500000     0.00000     0.000000   \n",
            "50%       1.000000     1.640000     9.500000     1.70000     0.000000   \n",
            "75%       2.000000     3.210000    15.000000     2.80000     0.000000   \n",
            "max       6.000000    36.700000   150.000000    33.20000    24.020000   \n",
            "std       1.203768     3.827867    11.551804     2.44856     1.415267   \n",
            "\n",
            "             total  \n",
            "count  6433.000000  \n",
            "mean     18.517794  \n",
            "min       1.300000  \n",
            "25%      10.800000  \n",
            "50%      14.160000  \n",
            "75%      20.300000  \n",
            "max     174.820000  \n",
            "std      13.815570  \n"
          ]
        }
      ]
    },
    {
      "cell_type": "code",
      "source": [
        "null = dfTaxis.isnull().sum()\n",
        "dfTaxis[\"payment\"] = dfTaxis[\"payment\"].bfill().ffill()\n",
        "dfTaxis[\"pickup_zone\"] = dfTaxis[\"pickup_zone\"].bfill().ffill()\n",
        "dfTaxis[\"dropoff_zone\"] = dfTaxis[\"dropoff_zone\"].bfill().ffill()\n",
        "dfTaxis[\"pickup_borough\"] = dfTaxis[\"pickup_borough\"].bfill().ffill()\n",
        "dfTaxis[\"dropoff_borough\"] = dfTaxis[\"dropoff_borough\"].bfill().ffill()\n",
        "print(null)"
      ],
      "metadata": {
        "colab": {
          "base_uri": "https://localhost:8080/"
        },
        "id": "56D_hZ97vpIc",
        "outputId": "ebd1e004-fd74-4639-ad61-2f503cd91e89"
      },
      "execution_count": null,
      "outputs": [
        {
          "output_type": "stream",
          "name": "stdout",
          "text": [
            "pickup             0\n",
            "dropoff            0\n",
            "passengers         0\n",
            "distance           0\n",
            "fare               0\n",
            "tip                0\n",
            "tolls              0\n",
            "total              0\n",
            "color              0\n",
            "payment            0\n",
            "pickup_zone        0\n",
            "dropoff_zone       0\n",
            "pickup_borough     0\n",
            "dropoff_borough    0\n",
            "dtype: int64\n"
          ]
        }
      ]
    },
    {
      "cell_type": "code",
      "source": [
        "dfTaxis[\"payment\"] = dfTaxis[\"payment\"].map({\"cash\":\"c\",\"credit card\":\"cd\"})\n",
        "print(dfTaxis.head(5))"
      ],
      "metadata": {
        "colab": {
          "base_uri": "https://localhost:8080/"
        },
        "id": "hIGTihYQykgy",
        "outputId": "c60b80c8-0601-4c49-9f80-a2c11585642f"
      },
      "execution_count": null,
      "outputs": [
        {
          "output_type": "stream",
          "name": "stdout",
          "text": [
            "               pickup             dropoff  passengers  distance  fare   tip  \\\n",
            "0 2019-03-23 20:21:09 2019-03-23 20:27:24           1      1.60   7.0  2.15   \n",
            "1 2019-03-04 16:11:55 2019-03-04 16:19:00           1      0.79   5.0  0.00   \n",
            "2 2019-03-27 17:53:01 2019-03-27 18:00:25           1      1.37   7.5  2.36   \n",
            "3 2019-03-10 01:23:59 2019-03-10 01:49:51           1      7.70  27.0  6.15   \n",
            "4 2019-03-30 13:27:42 2019-03-30 13:37:14           3      2.16   9.0  1.10   \n",
            "\n",
            "   tolls  total   color payment            pickup_zone           dropoff_zone  \\\n",
            "0    0.0  12.95  yellow      cd        Lenox Hill West    UN/Turtle Bay South   \n",
            "1    0.0   9.30  yellow       c  Upper West Side South  Upper West Side South   \n",
            "2    0.0  14.16  yellow      cd          Alphabet City           West Village   \n",
            "3    0.0  36.95  yellow      cd              Hudson Sq         Yorkville West   \n",
            "4    0.0  13.40  yellow      cd           Midtown East         Yorkville West   \n",
            "\n",
            "  pickup_borough dropoff_borough  \n",
            "0      Manhattan       Manhattan  \n",
            "1      Manhattan       Manhattan  \n",
            "2      Manhattan       Manhattan  \n",
            "3      Manhattan       Manhattan  \n",
            "4      Manhattan       Manhattan  \n"
          ]
        }
      ]
    },
    {
      "cell_type": "code",
      "source": [
        "dfTaxis[\"color\"] = dfTaxis[\"color\"].astype(\"category\")\n",
        "dfTaxis[\"payment\"] = dfTaxis[\"payment\"].astype(\"category\")\n",
        "dfTaxis[\"pickup_zone\"] = dfTaxis[\"pickup_zone\"].astype(\"category\")\n",
        "dfTaxis[\"dropoff_zone\"] = dfTaxis[\"dropoff_zone\"].astype(\"category\")\n",
        "dfTaxis[\"pickup_borough\"] = dfTaxis[\"pickup_borough\"].astype(\"category\")\n",
        "dfTaxis[\"dropoff_borough\"] = dfTaxis[\"dropoff_borough\"].astype(\"category\")\n",
        "print(dfTaxis.info())"
      ],
      "metadata": {
        "colab": {
          "base_uri": "https://localhost:8080/"
        },
        "id": "4Du5LHRI0NZT",
        "outputId": "c3a14b1a-3f8d-491c-c491-b88a50500712"
      },
      "execution_count": null,
      "outputs": [
        {
          "output_type": "stream",
          "name": "stdout",
          "text": [
            "<class 'pandas.core.frame.DataFrame'>\n",
            "RangeIndex: 6433 entries, 0 to 6432\n",
            "Data columns (total 14 columns):\n",
            " #   Column           Non-Null Count  Dtype         \n",
            "---  ------           --------------  -----         \n",
            " 0   pickup           6433 non-null   datetime64[ns]\n",
            " 1   dropoff          6433 non-null   datetime64[ns]\n",
            " 2   passengers       6433 non-null   int64         \n",
            " 3   distance         6433 non-null   float64       \n",
            " 4   fare             6433 non-null   float64       \n",
            " 5   tip              6433 non-null   float64       \n",
            " 6   tolls            6433 non-null   float64       \n",
            " 7   total            6433 non-null   float64       \n",
            " 8   color            6433 non-null   category      \n",
            " 9   payment          6433 non-null   category      \n",
            " 10  pickup_zone      6433 non-null   category      \n",
            " 11  dropoff_zone     6433 non-null   category      \n",
            " 12  pickup_borough   6433 non-null   category      \n",
            " 13  dropoff_borough  6433 non-null   category      \n",
            "dtypes: category(6), datetime64[ns](2), float64(5), int64(1)\n",
            "memory usage: 468.4 KB\n",
            "None\n"
          ]
        }
      ]
    },
    {
      "cell_type": "code",
      "source": [
        "dfTaxis.drop('tolls', axis=1, inplace=True)\n",
        "print(dfTaxis.columns)"
      ],
      "metadata": {
        "colab": {
          "base_uri": "https://localhost:8080/"
        },
        "id": "3zBP0XRB1UtD",
        "outputId": "ee364769-f6e2-4709-820c-361f657b1ccf"
      },
      "execution_count": null,
      "outputs": [
        {
          "output_type": "stream",
          "name": "stdout",
          "text": [
            "Index(['pickup', 'dropoff', 'passengers', 'distance', 'fare', 'tip', 'total',\n",
            "       'color', 'payment', 'pickup_zone', 'dropoff_zone', 'pickup_borough',\n",
            "       'dropoff_borough'],\n",
            "      dtype='object')\n"
          ]
        }
      ]
    },
    {
      "cell_type": "code",
      "source": [
        "print(dfTaxis.sample(10))"
      ],
      "metadata": {
        "colab": {
          "base_uri": "https://localhost:8080/"
        },
        "id": "A6NA40wlrTFE",
        "outputId": "1325f7df-af6b-4b26-8afb-fb71028be4bd"
      },
      "execution_count": null,
      "outputs": [
        {
          "output_type": "stream",
          "name": "stdout",
          "text": [
            "                  pickup             dropoff  passengers  distance  fare  \\\n",
            "7    2019-03-22 12:47:13 2019-03-22 12:58:17           0      1.40   8.5   \n",
            "219  2019-03-08 18:08:03 2019-03-08 18:15:42           1      1.40   7.0   \n",
            "4831 2019-03-11 12:12:50 2019-03-11 12:37:34           1     11.80  33.5   \n",
            "4609 2019-03-29 16:06:41 2019-03-29 16:15:20           1      1.00   7.0   \n",
            "307  2019-03-27 16:25:43 2019-03-27 16:35:23           1      0.68   7.5   \n",
            "3883 2019-03-01 20:02:32 2019-03-01 20:08:40           2      0.90   6.0   \n",
            "4711 2019-03-30 12:04:19 2019-03-30 12:25:27           2      3.90  16.0   \n",
            "2925 2019-03-27 14:16:53 2019-03-27 14:26:31           1      0.60   7.5   \n",
            "3587 2019-03-04 09:09:57 2019-03-04 09:20:02           1      1.43   8.5   \n",
            "1441 2019-03-12 15:18:37 2019-03-12 15:36:49           2      2.55  13.5   \n",
            "\n",
            "        tip  total   color payment                    pickup_zone  \\\n",
            "7      0.00  11.80  yellow      cd                    Murray Hill   \n",
            "219    2.25  13.55  yellow      cd                       Kips Bay   \n",
            "4831  10.60  53.16  yellow      cd                Lenox Hill East   \n",
            "4609   2.80  14.10  yellow      cd          Upper East Side South   \n",
            "307    0.00  11.80  yellow       c          Upper East Side South   \n",
            "3883   1.95  11.75  yellow      cd  Sutton Place/Turtle Bay North   \n",
            "4711   5.79  25.09  yellow      cd          Upper West Side North   \n",
            "2925   2.15  12.95  yellow      cd   Penn Station/Madison Sq West   \n",
            "3587   2.95  14.75  yellow      cd          Upper West Side North   \n",
            "1441   0.00  16.80  yellow       c            Lincoln Square West   \n",
            "\n",
            "               dropoff_zone pickup_borough dropoff_borough  \n",
            "7                  Flatiron      Manhattan       Manhattan  \n",
            "219           Alphabet City      Manhattan       Manhattan  \n",
            "4831   Flatbush/Ditmas Park      Manhattan        Brooklyn  \n",
            "4609           Clinton East      Manhattan       Manhattan  \n",
            "307   Upper East Side South      Manhattan       Manhattan  \n",
            "3883               Kips Bay      Manhattan       Manhattan  \n",
            "4711            Murray Hill      Manhattan       Manhattan  \n",
            "2925          Midtown South      Manhattan       Manhattan  \n",
            "3587    Morningside Heights      Manhattan       Manhattan  \n",
            "1441      East Harlem South      Manhattan       Manhattan  \n"
          ]
        }
      ]
    }
  ]
}