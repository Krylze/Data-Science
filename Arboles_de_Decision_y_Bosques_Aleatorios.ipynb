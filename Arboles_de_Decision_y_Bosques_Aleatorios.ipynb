{
  "nbformat": 4,
  "nbformat_minor": 0,
  "metadata": {
    "colab": {
      "provenance": [],
      "authorship_tag": "ABX9TyNgYw+6UVZ11bEgCHzP4RSH",
      "include_colab_link": true
    },
    "kernelspec": {
      "name": "python3",
      "display_name": "Python 3"
    },
    "language_info": {
      "name": "python"
    }
  },
  "cells": [
    {
      "cell_type": "markdown",
      "metadata": {
        "id": "view-in-github",
        "colab_type": "text"
      },
      "source": [
        "<a href=\"https://colab.research.google.com/github/Krylze/Data-Science/blob/main/Arboles_de_Decision_y_Bosques_Aleatorios.ipynb\" target=\"_parent\"><img src=\"https://colab.research.google.com/assets/colab-badge.svg\" alt=\"Open In Colab\"/></a>"
      ]
    },
    {
      "cell_type": "code",
      "source": [
        "# prompt: montar a drive\n",
        "\n",
        "from google.colab import drive\n",
        "drive.mount('/content/drive')"
      ],
      "metadata": {
        "colab": {
          "base_uri": "https://localhost:8080/"
        },
        "id": "Gb53hQVWLlwW",
        "outputId": "9c67413f-e12a-491d-8d5a-0defb36731cb"
      },
      "execution_count": null,
      "outputs": [
        {
          "output_type": "stream",
          "name": "stdout",
          "text": [
            "Mounted at /content/drive\n"
          ]
        }
      ]
    },
    {
      "cell_type": "markdown",
      "source": [
        "# Aboles de Desicion y Bosques\n",
        "\n",
        "## Importar Datos"
      ],
      "metadata": {
        "id": "OBwCGEWwL79_"
      }
    },
    {
      "cell_type": "code",
      "execution_count": null,
      "metadata": {
        "colab": {
          "base_uri": "https://localhost:8080/",
          "height": 363
        },
        "id": "GpYsFgKZLNoQ",
        "outputId": "3d132644-6f3b-4b3d-d243-e4cedef4bc29"
      },
      "outputs": [
        {
          "output_type": "execute_result",
          "data": {
            "text/plain": [
              "     Unnamed: 0  age  sex  cp  trestbps  chol  fbs  restecg  thalach  exang  \\\n",
              "24           24   40    1   3       140   199    0        1      178      1   \n",
              "17           17   66    0   3       150   226    0        1      114      0   \n",
              "300         300   68    1   0       144   193    1        1      141      0   \n",
              "237         237   60    1   0       140   293    0        0      170      0   \n",
              "49           49   53    0   0       138   234    0        0      160      0   \n",
              "266         266   55    0   0       180   327    0        2      117      1   \n",
              "283         283   40    1   0       152   223    0        1      181      0   \n",
              "67           67   45    0   1       130   234    0        0      175      0   \n",
              "265         265   66    1   0       112   212    0        0      132      1   \n",
              "255         255   45    1   0       142   309    0        0      147      1   \n",
              "\n",
              "     oldpeak  slope  ca  thal  target  \n",
              "24       1.4      2   0     3       1  \n",
              "17       2.6      0   0     2       1  \n",
              "300      3.4      1   2     3       0  \n",
              "237      1.2      1   2     3       0  \n",
              "49       0.0      2   0     2       1  \n",
              "266      3.4      1   0     2       0  \n",
              "283      0.0      2   0     3       0  \n",
              "67       0.6      1   0     2       1  \n",
              "265      0.1      2   1     2       0  \n",
              "255      0.0      1   3     3       0  "
            ],
            "text/html": [
              "\n",
              "  <div id=\"df-b56416cd-4ea8-4f03-ab70-fd43edd76017\" class=\"colab-df-container\">\n",
              "    <div>\n",
              "<style scoped>\n",
              "    .dataframe tbody tr th:only-of-type {\n",
              "        vertical-align: middle;\n",
              "    }\n",
              "\n",
              "    .dataframe tbody tr th {\n",
              "        vertical-align: top;\n",
              "    }\n",
              "\n",
              "    .dataframe thead th {\n",
              "        text-align: right;\n",
              "    }\n",
              "</style>\n",
              "<table border=\"1\" class=\"dataframe\">\n",
              "  <thead>\n",
              "    <tr style=\"text-align: right;\">\n",
              "      <th></th>\n",
              "      <th>Unnamed: 0</th>\n",
              "      <th>age</th>\n",
              "      <th>sex</th>\n",
              "      <th>cp</th>\n",
              "      <th>trestbps</th>\n",
              "      <th>chol</th>\n",
              "      <th>fbs</th>\n",
              "      <th>restecg</th>\n",
              "      <th>thalach</th>\n",
              "      <th>exang</th>\n",
              "      <th>oldpeak</th>\n",
              "      <th>slope</th>\n",
              "      <th>ca</th>\n",
              "      <th>thal</th>\n",
              "      <th>target</th>\n",
              "    </tr>\n",
              "  </thead>\n",
              "  <tbody>\n",
              "    <tr>\n",
              "      <th>24</th>\n",
              "      <td>24</td>\n",
              "      <td>40</td>\n",
              "      <td>1</td>\n",
              "      <td>3</td>\n",
              "      <td>140</td>\n",
              "      <td>199</td>\n",
              "      <td>0</td>\n",
              "      <td>1</td>\n",
              "      <td>178</td>\n",
              "      <td>1</td>\n",
              "      <td>1.4</td>\n",
              "      <td>2</td>\n",
              "      <td>0</td>\n",
              "      <td>3</td>\n",
              "      <td>1</td>\n",
              "    </tr>\n",
              "    <tr>\n",
              "      <th>17</th>\n",
              "      <td>17</td>\n",
              "      <td>66</td>\n",
              "      <td>0</td>\n",
              "      <td>3</td>\n",
              "      <td>150</td>\n",
              "      <td>226</td>\n",
              "      <td>0</td>\n",
              "      <td>1</td>\n",
              "      <td>114</td>\n",
              "      <td>0</td>\n",
              "      <td>2.6</td>\n",
              "      <td>0</td>\n",
              "      <td>0</td>\n",
              "      <td>2</td>\n",
              "      <td>1</td>\n",
              "    </tr>\n",
              "    <tr>\n",
              "      <th>300</th>\n",
              "      <td>300</td>\n",
              "      <td>68</td>\n",
              "      <td>1</td>\n",
              "      <td>0</td>\n",
              "      <td>144</td>\n",
              "      <td>193</td>\n",
              "      <td>1</td>\n",
              "      <td>1</td>\n",
              "      <td>141</td>\n",
              "      <td>0</td>\n",
              "      <td>3.4</td>\n",
              "      <td>1</td>\n",
              "      <td>2</td>\n",
              "      <td>3</td>\n",
              "      <td>0</td>\n",
              "    </tr>\n",
              "    <tr>\n",
              "      <th>237</th>\n",
              "      <td>237</td>\n",
              "      <td>60</td>\n",
              "      <td>1</td>\n",
              "      <td>0</td>\n",
              "      <td>140</td>\n",
              "      <td>293</td>\n",
              "      <td>0</td>\n",
              "      <td>0</td>\n",
              "      <td>170</td>\n",
              "      <td>0</td>\n",
              "      <td>1.2</td>\n",
              "      <td>1</td>\n",
              "      <td>2</td>\n",
              "      <td>3</td>\n",
              "      <td>0</td>\n",
              "    </tr>\n",
              "    <tr>\n",
              "      <th>49</th>\n",
              "      <td>49</td>\n",
              "      <td>53</td>\n",
              "      <td>0</td>\n",
              "      <td>0</td>\n",
              "      <td>138</td>\n",
              "      <td>234</td>\n",
              "      <td>0</td>\n",
              "      <td>0</td>\n",
              "      <td>160</td>\n",
              "      <td>0</td>\n",
              "      <td>0.0</td>\n",
              "      <td>2</td>\n",
              "      <td>0</td>\n",
              "      <td>2</td>\n",
              "      <td>1</td>\n",
              "    </tr>\n",
              "    <tr>\n",
              "      <th>266</th>\n",
              "      <td>266</td>\n",
              "      <td>55</td>\n",
              "      <td>0</td>\n",
              "      <td>0</td>\n",
              "      <td>180</td>\n",
              "      <td>327</td>\n",
              "      <td>0</td>\n",
              "      <td>2</td>\n",
              "      <td>117</td>\n",
              "      <td>1</td>\n",
              "      <td>3.4</td>\n",
              "      <td>1</td>\n",
              "      <td>0</td>\n",
              "      <td>2</td>\n",
              "      <td>0</td>\n",
              "    </tr>\n",
              "    <tr>\n",
              "      <th>283</th>\n",
              "      <td>283</td>\n",
              "      <td>40</td>\n",
              "      <td>1</td>\n",
              "      <td>0</td>\n",
              "      <td>152</td>\n",
              "      <td>223</td>\n",
              "      <td>0</td>\n",
              "      <td>1</td>\n",
              "      <td>181</td>\n",
              "      <td>0</td>\n",
              "      <td>0.0</td>\n",
              "      <td>2</td>\n",
              "      <td>0</td>\n",
              "      <td>3</td>\n",
              "      <td>0</td>\n",
              "    </tr>\n",
              "    <tr>\n",
              "      <th>67</th>\n",
              "      <td>67</td>\n",
              "      <td>45</td>\n",
              "      <td>0</td>\n",
              "      <td>1</td>\n",
              "      <td>130</td>\n",
              "      <td>234</td>\n",
              "      <td>0</td>\n",
              "      <td>0</td>\n",
              "      <td>175</td>\n",
              "      <td>0</td>\n",
              "      <td>0.6</td>\n",
              "      <td>1</td>\n",
              "      <td>0</td>\n",
              "      <td>2</td>\n",
              "      <td>1</td>\n",
              "    </tr>\n",
              "    <tr>\n",
              "      <th>265</th>\n",
              "      <td>265</td>\n",
              "      <td>66</td>\n",
              "      <td>1</td>\n",
              "      <td>0</td>\n",
              "      <td>112</td>\n",
              "      <td>212</td>\n",
              "      <td>0</td>\n",
              "      <td>0</td>\n",
              "      <td>132</td>\n",
              "      <td>1</td>\n",
              "      <td>0.1</td>\n",
              "      <td>2</td>\n",
              "      <td>1</td>\n",
              "      <td>2</td>\n",
              "      <td>0</td>\n",
              "    </tr>\n",
              "    <tr>\n",
              "      <th>255</th>\n",
              "      <td>255</td>\n",
              "      <td>45</td>\n",
              "      <td>1</td>\n",
              "      <td>0</td>\n",
              "      <td>142</td>\n",
              "      <td>309</td>\n",
              "      <td>0</td>\n",
              "      <td>0</td>\n",
              "      <td>147</td>\n",
              "      <td>1</td>\n",
              "      <td>0.0</td>\n",
              "      <td>1</td>\n",
              "      <td>3</td>\n",
              "      <td>3</td>\n",
              "      <td>0</td>\n",
              "    </tr>\n",
              "  </tbody>\n",
              "</table>\n",
              "</div>\n",
              "    <div class=\"colab-df-buttons\">\n",
              "\n",
              "  <div class=\"colab-df-container\">\n",
              "    <button class=\"colab-df-convert\" onclick=\"convertToInteractive('df-b56416cd-4ea8-4f03-ab70-fd43edd76017')\"\n",
              "            title=\"Convert this dataframe to an interactive table.\"\n",
              "            style=\"display:none;\">\n",
              "\n",
              "  <svg xmlns=\"http://www.w3.org/2000/svg\" height=\"24px\" viewBox=\"0 -960 960 960\">\n",
              "    <path d=\"M120-120v-720h720v720H120Zm60-500h600v-160H180v160Zm220 220h160v-160H400v160Zm0 220h160v-160H400v160ZM180-400h160v-160H180v160Zm440 0h160v-160H620v160ZM180-180h160v-160H180v160Zm440 0h160v-160H620v160Z\"/>\n",
              "  </svg>\n",
              "    </button>\n",
              "\n",
              "  <style>\n",
              "    .colab-df-container {\n",
              "      display:flex;\n",
              "      gap: 12px;\n",
              "    }\n",
              "\n",
              "    .colab-df-convert {\n",
              "      background-color: #E8F0FE;\n",
              "      border: none;\n",
              "      border-radius: 50%;\n",
              "      cursor: pointer;\n",
              "      display: none;\n",
              "      fill: #1967D2;\n",
              "      height: 32px;\n",
              "      padding: 0 0 0 0;\n",
              "      width: 32px;\n",
              "    }\n",
              "\n",
              "    .colab-df-convert:hover {\n",
              "      background-color: #E2EBFA;\n",
              "      box-shadow: 0px 1px 2px rgba(60, 64, 67, 0.3), 0px 1px 3px 1px rgba(60, 64, 67, 0.15);\n",
              "      fill: #174EA6;\n",
              "    }\n",
              "\n",
              "    .colab-df-buttons div {\n",
              "      margin-bottom: 4px;\n",
              "    }\n",
              "\n",
              "    [theme=dark] .colab-df-convert {\n",
              "      background-color: #3B4455;\n",
              "      fill: #D2E3FC;\n",
              "    }\n",
              "\n",
              "    [theme=dark] .colab-df-convert:hover {\n",
              "      background-color: #434B5C;\n",
              "      box-shadow: 0px 1px 3px 1px rgba(0, 0, 0, 0.15);\n",
              "      filter: drop-shadow(0px 1px 2px rgba(0, 0, 0, 0.3));\n",
              "      fill: #FFFFFF;\n",
              "    }\n",
              "  </style>\n",
              "\n",
              "    <script>\n",
              "      const buttonEl =\n",
              "        document.querySelector('#df-b56416cd-4ea8-4f03-ab70-fd43edd76017 button.colab-df-convert');\n",
              "      buttonEl.style.display =\n",
              "        google.colab.kernel.accessAllowed ? 'block' : 'none';\n",
              "\n",
              "      async function convertToInteractive(key) {\n",
              "        const element = document.querySelector('#df-b56416cd-4ea8-4f03-ab70-fd43edd76017');\n",
              "        const dataTable =\n",
              "          await google.colab.kernel.invokeFunction('convertToInteractive',\n",
              "                                                    [key], {});\n",
              "        if (!dataTable) return;\n",
              "\n",
              "        const docLinkHtml = 'Like what you see? Visit the ' +\n",
              "          '<a target=\"_blank\" href=https://colab.research.google.com/notebooks/data_table.ipynb>data table notebook</a>'\n",
              "          + ' to learn more about interactive tables.';\n",
              "        element.innerHTML = '';\n",
              "        dataTable['output_type'] = 'display_data';\n",
              "        await google.colab.output.renderOutput(dataTable, element);\n",
              "        const docLink = document.createElement('div');\n",
              "        docLink.innerHTML = docLinkHtml;\n",
              "        element.appendChild(docLink);\n",
              "      }\n",
              "    </script>\n",
              "  </div>\n",
              "\n",
              "\n",
              "<div id=\"df-d4a7477d-5122-4a94-a162-5edf2a793d72\">\n",
              "  <button class=\"colab-df-quickchart\" onclick=\"quickchart('df-d4a7477d-5122-4a94-a162-5edf2a793d72')\"\n",
              "            title=\"Suggest charts\"\n",
              "            style=\"display:none;\">\n",
              "\n",
              "<svg xmlns=\"http://www.w3.org/2000/svg\" height=\"24px\"viewBox=\"0 0 24 24\"\n",
              "     width=\"24px\">\n",
              "    <g>\n",
              "        <path d=\"M19 3H5c-1.1 0-2 .9-2 2v14c0 1.1.9 2 2 2h14c1.1 0 2-.9 2-2V5c0-1.1-.9-2-2-2zM9 17H7v-7h2v7zm4 0h-2V7h2v10zm4 0h-2v-4h2v4z\"/>\n",
              "    </g>\n",
              "</svg>\n",
              "  </button>\n",
              "\n",
              "<style>\n",
              "  .colab-df-quickchart {\n",
              "      --bg-color: #E8F0FE;\n",
              "      --fill-color: #1967D2;\n",
              "      --hover-bg-color: #E2EBFA;\n",
              "      --hover-fill-color: #174EA6;\n",
              "      --disabled-fill-color: #AAA;\n",
              "      --disabled-bg-color: #DDD;\n",
              "  }\n",
              "\n",
              "  [theme=dark] .colab-df-quickchart {\n",
              "      --bg-color: #3B4455;\n",
              "      --fill-color: #D2E3FC;\n",
              "      --hover-bg-color: #434B5C;\n",
              "      --hover-fill-color: #FFFFFF;\n",
              "      --disabled-bg-color: #3B4455;\n",
              "      --disabled-fill-color: #666;\n",
              "  }\n",
              "\n",
              "  .colab-df-quickchart {\n",
              "    background-color: var(--bg-color);\n",
              "    border: none;\n",
              "    border-radius: 50%;\n",
              "    cursor: pointer;\n",
              "    display: none;\n",
              "    fill: var(--fill-color);\n",
              "    height: 32px;\n",
              "    padding: 0;\n",
              "    width: 32px;\n",
              "  }\n",
              "\n",
              "  .colab-df-quickchart:hover {\n",
              "    background-color: var(--hover-bg-color);\n",
              "    box-shadow: 0 1px 2px rgba(60, 64, 67, 0.3), 0 1px 3px 1px rgba(60, 64, 67, 0.15);\n",
              "    fill: var(--button-hover-fill-color);\n",
              "  }\n",
              "\n",
              "  .colab-df-quickchart-complete:disabled,\n",
              "  .colab-df-quickchart-complete:disabled:hover {\n",
              "    background-color: var(--disabled-bg-color);\n",
              "    fill: var(--disabled-fill-color);\n",
              "    box-shadow: none;\n",
              "  }\n",
              "\n",
              "  .colab-df-spinner {\n",
              "    border: 2px solid var(--fill-color);\n",
              "    border-color: transparent;\n",
              "    border-bottom-color: var(--fill-color);\n",
              "    animation:\n",
              "      spin 1s steps(1) infinite;\n",
              "  }\n",
              "\n",
              "  @keyframes spin {\n",
              "    0% {\n",
              "      border-color: transparent;\n",
              "      border-bottom-color: var(--fill-color);\n",
              "      border-left-color: var(--fill-color);\n",
              "    }\n",
              "    20% {\n",
              "      border-color: transparent;\n",
              "      border-left-color: var(--fill-color);\n",
              "      border-top-color: var(--fill-color);\n",
              "    }\n",
              "    30% {\n",
              "      border-color: transparent;\n",
              "      border-left-color: var(--fill-color);\n",
              "      border-top-color: var(--fill-color);\n",
              "      border-right-color: var(--fill-color);\n",
              "    }\n",
              "    40% {\n",
              "      border-color: transparent;\n",
              "      border-right-color: var(--fill-color);\n",
              "      border-top-color: var(--fill-color);\n",
              "    }\n",
              "    60% {\n",
              "      border-color: transparent;\n",
              "      border-right-color: var(--fill-color);\n",
              "    }\n",
              "    80% {\n",
              "      border-color: transparent;\n",
              "      border-right-color: var(--fill-color);\n",
              "      border-bottom-color: var(--fill-color);\n",
              "    }\n",
              "    90% {\n",
              "      border-color: transparent;\n",
              "      border-bottom-color: var(--fill-color);\n",
              "    }\n",
              "  }\n",
              "</style>\n",
              "\n",
              "  <script>\n",
              "    async function quickchart(key) {\n",
              "      const quickchartButtonEl =\n",
              "        document.querySelector('#' + key + ' button');\n",
              "      quickchartButtonEl.disabled = true;  // To prevent multiple clicks.\n",
              "      quickchartButtonEl.classList.add('colab-df-spinner');\n",
              "      try {\n",
              "        const charts = await google.colab.kernel.invokeFunction(\n",
              "            'suggestCharts', [key], {});\n",
              "      } catch (error) {\n",
              "        console.error('Error during call to suggestCharts:', error);\n",
              "      }\n",
              "      quickchartButtonEl.classList.remove('colab-df-spinner');\n",
              "      quickchartButtonEl.classList.add('colab-df-quickchart-complete');\n",
              "    }\n",
              "    (() => {\n",
              "      let quickchartButtonEl =\n",
              "        document.querySelector('#df-d4a7477d-5122-4a94-a162-5edf2a793d72 button');\n",
              "      quickchartButtonEl.style.display =\n",
              "        google.colab.kernel.accessAllowed ? 'block' : 'none';\n",
              "    })();\n",
              "  </script>\n",
              "</div>\n",
              "\n",
              "    </div>\n",
              "  </div>\n"
            ],
            "application/vnd.google.colaboratory.intrinsic+json": {
              "type": "dataframe",
              "summary": "{\n  \"name\": \"data\",\n  \"rows\": 10,\n  \"fields\": [\n    {\n      \"column\": \"Unnamed: 0\",\n      \"properties\": {\n        \"dtype\": \"number\",\n        \"std\": 119,\n        \"min\": 17,\n        \"max\": 300,\n        \"num_unique_values\": 10,\n        \"samples\": [\n          265,\n          17,\n          266\n        ],\n        \"semantic_type\": \"\",\n        \"description\": \"\"\n      }\n    },\n    {\n      \"column\": \"age\",\n      \"properties\": {\n        \"dtype\": \"number\",\n        \"std\": 10,\n        \"min\": 40,\n        \"max\": 68,\n        \"num_unique_values\": 7,\n        \"samples\": [\n          40,\n          66,\n          55\n        ],\n        \"semantic_type\": \"\",\n        \"description\": \"\"\n      }\n    },\n    {\n      \"column\": \"sex\",\n      \"properties\": {\n        \"dtype\": \"number\",\n        \"std\": 0,\n        \"min\": 0,\n        \"max\": 1,\n        \"num_unique_values\": 2,\n        \"samples\": [\n          0,\n          1\n        ],\n        \"semantic_type\": \"\",\n        \"description\": \"\"\n      }\n    },\n    {\n      \"column\": \"cp\",\n      \"properties\": {\n        \"dtype\": \"number\",\n        \"std\": 1,\n        \"min\": 0,\n        \"max\": 3,\n        \"num_unique_values\": 3,\n        \"samples\": [\n          3,\n          0\n        ],\n        \"semantic_type\": \"\",\n        \"description\": \"\"\n      }\n    },\n    {\n      \"column\": \"trestbps\",\n      \"properties\": {\n        \"dtype\": \"number\",\n        \"std\": 17,\n        \"min\": 112,\n        \"max\": 180,\n        \"num_unique_values\": 9,\n        \"samples\": [\n          112,\n          150\n        ],\n        \"semantic_type\": \"\",\n        \"description\": \"\"\n      }\n    },\n    {\n      \"column\": \"chol\",\n      \"properties\": {\n        \"dtype\": \"number\",\n        \"std\": 47,\n        \"min\": 193,\n        \"max\": 327,\n        \"num_unique_values\": 9,\n        \"samples\": [\n          212,\n          226\n        ],\n        \"semantic_type\": \"\",\n        \"description\": \"\"\n      }\n    },\n    {\n      \"column\": \"fbs\",\n      \"properties\": {\n        \"dtype\": \"number\",\n        \"std\": 0,\n        \"min\": 0,\n        \"max\": 1,\n        \"num_unique_values\": 2,\n        \"samples\": [\n          1,\n          0\n        ],\n        \"semantic_type\": \"\",\n        \"description\": \"\"\n      }\n    },\n    {\n      \"column\": \"restecg\",\n      \"properties\": {\n        \"dtype\": \"number\",\n        \"std\": 0,\n        \"min\": 0,\n        \"max\": 2,\n        \"num_unique_values\": 3,\n        \"samples\": [\n          1,\n          0\n        ],\n        \"semantic_type\": \"\",\n        \"description\": \"\"\n      }\n    },\n    {\n      \"column\": \"thalach\",\n      \"properties\": {\n        \"dtype\": \"number\",\n        \"std\": 25,\n        \"min\": 114,\n        \"max\": 181,\n        \"num_unique_values\": 10,\n        \"samples\": [\n          132,\n          114\n        ],\n        \"semantic_type\": \"\",\n        \"description\": \"\"\n      }\n    },\n    {\n      \"column\": \"exang\",\n      \"properties\": {\n        \"dtype\": \"number\",\n        \"std\": 0,\n        \"min\": 0,\n        \"max\": 1,\n        \"num_unique_values\": 2,\n        \"samples\": [\n          0,\n          1\n        ],\n        \"semantic_type\": \"\",\n        \"description\": \"\"\n      }\n    },\n    {\n      \"column\": \"oldpeak\",\n      \"properties\": {\n        \"dtype\": \"number\",\n        \"std\": 1.3952697867358046,\n        \"min\": 0.0,\n        \"max\": 3.4,\n        \"num_unique_values\": 7,\n        \"samples\": [\n          1.4,\n          2.6\n        ],\n        \"semantic_type\": \"\",\n        \"description\": \"\"\n      }\n    },\n    {\n      \"column\": \"slope\",\n      \"properties\": {\n        \"dtype\": \"number\",\n        \"std\": 0,\n        \"min\": 0,\n        \"max\": 2,\n        \"num_unique_values\": 3,\n        \"samples\": [\n          2,\n          0\n        ],\n        \"semantic_type\": \"\",\n        \"description\": \"\"\n      }\n    },\n    {\n      \"column\": \"ca\",\n      \"properties\": {\n        \"dtype\": \"number\",\n        \"std\": 1,\n        \"min\": 0,\n        \"max\": 3,\n        \"num_unique_values\": 4,\n        \"samples\": [\n          2,\n          3\n        ],\n        \"semantic_type\": \"\",\n        \"description\": \"\"\n      }\n    },\n    {\n      \"column\": \"thal\",\n      \"properties\": {\n        \"dtype\": \"number\",\n        \"std\": 0,\n        \"min\": 2,\n        \"max\": 3,\n        \"num_unique_values\": 2,\n        \"samples\": [\n          2,\n          3\n        ],\n        \"semantic_type\": \"\",\n        \"description\": \"\"\n      }\n    },\n    {\n      \"column\": \"target\",\n      \"properties\": {\n        \"dtype\": \"number\",\n        \"std\": 0,\n        \"min\": 0,\n        \"max\": 1,\n        \"num_unique_values\": 2,\n        \"samples\": [\n          0,\n          1\n        ],\n        \"semantic_type\": \"\",\n        \"description\": \"\"\n      }\n    }\n  ]\n}"
            }
          },
          "metadata": {},
          "execution_count": 2
        }
      ],
      "source": [
        "import pandas as pd\n",
        "import numpy as np\n",
        "import matplotlib.pyplot as plt\n",
        "import seaborn as sns\n",
        "\n",
        "data = pd.read_csv(\"/content/drive/MyDrive/Ciencia de Datos/Data/heart_disease.csv\")\n",
        "data.sample(10)"
      ]
    },
    {
      "cell_type": "markdown",
      "source": [
        "## Segmentar datos en training y test"
      ],
      "metadata": {
        "id": "0ZxAU828NmDO"
      }
    },
    {
      "cell_type": "code",
      "source": [
        "from sklearn.model_selection import train_test_split\n",
        "x = data.iloc[:, 1:14]\n",
        "y = data.target\n",
        "x_train, x_test, y_train, y_test = train_test_split(x, y, test_size=0.2, random_state=7)\n",
        "print(len(x_train))\n",
        "print(len(x_test))\n",
        "print(len(y_train))\n",
        "print(len(y_test))"
      ],
      "metadata": {
        "colab": {
          "base_uri": "https://localhost:8080/"
        },
        "id": "OvPg2lY3NQgO",
        "outputId": "21779ca6-9544-4488-9f11-83a609da2894"
      },
      "execution_count": null,
      "outputs": [
        {
          "output_type": "stream",
          "name": "stdout",
          "text": [
            "242\n",
            "61\n",
            "242\n",
            "61\n"
          ]
        }
      ]
    },
    {
      "cell_type": "markdown",
      "source": [
        "# Entrenar Modelo"
      ],
      "metadata": {
        "id": "AxCVITNAONbC"
      }
    },
    {
      "cell_type": "code",
      "source": [
        "from sklearn.tree import DecisionTreeClassifier\n",
        "classifier = DecisionTreeClassifier(criterion=\"gini\", random_state=7, max_depth=6)\n",
        "classifier.fit(x_train, y_train)\n",
        "y_pred = classifier.predict(x_test)\n",
        "print(y_pred[0:10]) #Es un numpay array\n",
        "print(y_test[0:10]) #Es una serie"
      ],
      "metadata": {
        "colab": {
          "base_uri": "https://localhost:8080/"
        },
        "id": "Nuc-DFIMOP88",
        "outputId": "ea238150-42fb-4bf1-9afc-e50b777a741c"
      },
      "execution_count": null,
      "outputs": [
        {
          "output_type": "stream",
          "name": "stdout",
          "text": [
            "[1 1 0 1 1 0 1 0 1 1]\n",
            "125    1\n",
            "57     1\n",
            "282    0\n",
            "66     1\n",
            "114    1\n",
            "281    0\n",
            "132    1\n",
            "255    0\n",
            "37     1\n",
            "273    0\n",
            "Name: target, dtype: int64\n"
          ]
        }
      ]
    },
    {
      "cell_type": "markdown",
      "source": [
        "# Evaluar el modelo"
      ],
      "metadata": {
        "id": "0yvylC71PZid"
      }
    },
    {
      "cell_type": "code",
      "source": [
        "from sklearn.metrics import confusion_matrix, classification_report, accuracy_score\n",
        "print(\"Accuracy: \", accuracy_score(y_test, y_pred))\n",
        "print(\" \")\n",
        "print(\"Confusion Matrix\")\n",
        "print(confusion_matrix(y_test, y_pred, labels = [0, 1]))\n",
        "print(\" \")\n",
        "print(\"Classification Report\")\n",
        "print(classification_report(y_test, y_pred))"
      ],
      "metadata": {
        "colab": {
          "base_uri": "https://localhost:8080/"
        },
        "id": "eZ-HHE55PedV",
        "outputId": "e846dba3-f776-4255-9c71-be489d8acc44"
      },
      "execution_count": null,
      "outputs": [
        {
          "output_type": "stream",
          "name": "stdout",
          "text": [
            "Accuracy:  0.7213114754098361\n",
            " \n",
            "Confusion Matrix\n",
            "[[17 13]\n",
            " [ 4 27]]\n",
            " \n",
            "Classification Report\n",
            "              precision    recall  f1-score   support\n",
            "\n",
            "           0       0.81      0.57      0.67        30\n",
            "           1       0.68      0.87      0.76        31\n",
            "\n",
            "    accuracy                           0.72        61\n",
            "   macro avg       0.74      0.72      0.71        61\n",
            "weighted avg       0.74      0.72      0.71        61\n",
            "\n"
          ]
        }
      ]
    },
    {
      "cell_type": "markdown",
      "source": [
        "## Graficar el Arbol"
      ],
      "metadata": {
        "id": "Ns2blko7Q7X1"
      }
    },
    {
      "cell_type": "code",
      "source": [
        "from sklearn.tree import export_graphviz\n",
        "import graphviz\n",
        "\n",
        "graph = export_graphviz(classifier, filled=True, rounded =True, class_names=[\"No\", \"Si\"], feature_names = list (x.columns), max_depth=2)\n",
        "graphviz.Source(graph)\n",
        "\n"
      ],
      "metadata": {
        "colab": {
          "base_uri": "https://localhost:8080/",
          "height": 556
        },
        "id": "w3FSNrsGQ-hE",
        "outputId": "af175169-6adb-41d6-c3e0-f4033ecc82cc"
      },
      "execution_count": null,
      "outputs": [
        {
          "output_type": "execute_result",
          "data": {
            "image/svg+xml": "<?xml version=\"1.0\" encoding=\"UTF-8\" standalone=\"no\"?>\n<!DOCTYPE svg PUBLIC \"-//W3C//DTD SVG 1.1//EN\"\n \"http://www.w3.org/Graphics/SVG/1.1/DTD/svg11.dtd\">\n<!-- Generated by graphviz version 2.43.0 (0)\n -->\n<!-- Title: Tree Pages: 1 -->\n<svg width=\"601pt\" height=\"401pt\"\n viewBox=\"0.00 0.00 601.00 401.00\" xmlns=\"http://www.w3.org/2000/svg\" xmlns:xlink=\"http://www.w3.org/1999/xlink\">\n<g id=\"graph0\" class=\"graph\" transform=\"scale(1 1) rotate(0) translate(4 397)\">\n<title>Tree</title>\n<polygon fill=\"white\" stroke=\"transparent\" points=\"-4,4 -4,-397 597,-397 597,4 -4,4\"/>\n<!-- 0 -->\n<g id=\"node1\" class=\"node\">\n<title>0</title>\n<path fill=\"#d9ecfa\" stroke=\"black\" d=\"M347.5,-393C347.5,-393 246.5,-393 246.5,-393 240.5,-393 234.5,-387 234.5,-381 234.5,-381 234.5,-322 234.5,-322 234.5,-316 240.5,-310 246.5,-310 246.5,-310 347.5,-310 347.5,-310 353.5,-310 359.5,-316 359.5,-322 359.5,-322 359.5,-381 359.5,-381 359.5,-387 353.5,-393 347.5,-393\"/>\n<text text-anchor=\"middle\" x=\"297\" y=\"-377.8\" font-family=\"Helvetica,sans-Serif\" font-size=\"14.00\">cp &lt;= 0.5</text>\n<text text-anchor=\"middle\" x=\"297\" y=\"-362.8\" font-family=\"Helvetica,sans-Serif\" font-size=\"14.00\">gini = 0.494</text>\n<text text-anchor=\"middle\" x=\"297\" y=\"-347.8\" font-family=\"Helvetica,sans-Serif\" font-size=\"14.00\">samples = 242</text>\n<text text-anchor=\"middle\" x=\"297\" y=\"-332.8\" font-family=\"Helvetica,sans-Serif\" font-size=\"14.00\">value = [108, 134]</text>\n<text text-anchor=\"middle\" x=\"297\" y=\"-317.8\" font-family=\"Helvetica,sans-Serif\" font-size=\"14.00\">class = Si</text>\n</g>\n<!-- 1 -->\n<g id=\"node2\" class=\"node\">\n<title>1</title>\n<path fill=\"#efb082\" stroke=\"black\" d=\"M273,-274C273,-274 187,-274 187,-274 181,-274 175,-268 175,-262 175,-262 175,-203 175,-203 175,-197 181,-191 187,-191 187,-191 273,-191 273,-191 279,-191 285,-197 285,-203 285,-203 285,-262 285,-262 285,-268 279,-274 273,-274\"/>\n<text text-anchor=\"middle\" x=\"230\" y=\"-258.8\" font-family=\"Helvetica,sans-Serif\" font-size=\"14.00\">oldpeak &lt;= 0.7</text>\n<text text-anchor=\"middle\" x=\"230\" y=\"-243.8\" font-family=\"Helvetica,sans-Serif\" font-size=\"14.00\">gini = 0.394</text>\n<text text-anchor=\"middle\" x=\"230\" y=\"-228.8\" font-family=\"Helvetica,sans-Serif\" font-size=\"14.00\">samples = 115</text>\n<text text-anchor=\"middle\" x=\"230\" y=\"-213.8\" font-family=\"Helvetica,sans-Serif\" font-size=\"14.00\">value = [84, 31]</text>\n<text text-anchor=\"middle\" x=\"230\" y=\"-198.8\" font-family=\"Helvetica,sans-Serif\" font-size=\"14.00\">class = No</text>\n</g>\n<!-- 0&#45;&gt;1 -->\n<g id=\"edge1\" class=\"edge\">\n<title>0&#45;&gt;1</title>\n<path fill=\"none\" stroke=\"black\" d=\"M273.75,-309.91C268.77,-301.2 263.44,-291.9 258.29,-282.89\"/>\n<polygon fill=\"black\" stroke=\"black\" points=\"261.21,-280.96 253.2,-274.02 255.14,-284.44 261.21,-280.96\"/>\n<text text-anchor=\"middle\" x=\"246.65\" y=\"-294.45\" font-family=\"Helvetica,sans-Serif\" font-size=\"14.00\">True</text>\n</g>\n<!-- 26 -->\n<g id=\"node9\" class=\"node\">\n<title>26</title>\n<path fill=\"#67b4eb\" stroke=\"black\" d=\"M410.5,-274C410.5,-274 317.5,-274 317.5,-274 311.5,-274 305.5,-268 305.5,-262 305.5,-262 305.5,-203 305.5,-203 305.5,-197 311.5,-191 317.5,-191 317.5,-191 410.5,-191 410.5,-191 416.5,-191 422.5,-197 422.5,-203 422.5,-203 422.5,-262 422.5,-262 422.5,-268 416.5,-274 410.5,-274\"/>\n<text text-anchor=\"middle\" x=\"364\" y=\"-258.8\" font-family=\"Helvetica,sans-Serif\" font-size=\"14.00\">thal &lt;= 2.5</text>\n<text text-anchor=\"middle\" x=\"364\" y=\"-243.8\" font-family=\"Helvetica,sans-Serif\" font-size=\"14.00\">gini = 0.307</text>\n<text text-anchor=\"middle\" x=\"364\" y=\"-228.8\" font-family=\"Helvetica,sans-Serif\" font-size=\"14.00\">samples = 127</text>\n<text text-anchor=\"middle\" x=\"364\" y=\"-213.8\" font-family=\"Helvetica,sans-Serif\" font-size=\"14.00\">value = [24, 103]</text>\n<text text-anchor=\"middle\" x=\"364\" y=\"-198.8\" font-family=\"Helvetica,sans-Serif\" font-size=\"14.00\">class = Si</text>\n</g>\n<!-- 0&#45;&gt;26 -->\n<g id=\"edge8\" class=\"edge\">\n<title>0&#45;&gt;26</title>\n<path fill=\"none\" stroke=\"black\" d=\"M320.25,-309.91C325.23,-301.2 330.56,-291.9 335.71,-282.89\"/>\n<polygon fill=\"black\" stroke=\"black\" points=\"338.86,-284.44 340.8,-274.02 332.79,-280.96 338.86,-284.44\"/>\n<text text-anchor=\"middle\" x=\"347.35\" y=\"-294.45\" font-family=\"Helvetica,sans-Serif\" font-size=\"14.00\">False</text>\n</g>\n<!-- 2 -->\n<g id=\"node3\" class=\"node\">\n<title>2</title>\n<path fill=\"#cbe5f8\" stroke=\"black\" d=\"M139,-155C139,-155 53,-155 53,-155 47,-155 41,-149 41,-143 41,-143 41,-84 41,-84 41,-78 47,-72 53,-72 53,-72 139,-72 139,-72 145,-72 151,-78 151,-84 151,-84 151,-143 151,-143 151,-149 145,-155 139,-155\"/>\n<text text-anchor=\"middle\" x=\"96\" y=\"-139.8\" font-family=\"Helvetica,sans-Serif\" font-size=\"14.00\">ca &lt;= 0.5</text>\n<text text-anchor=\"middle\" x=\"96\" y=\"-124.8\" font-family=\"Helvetica,sans-Serif\" font-size=\"14.00\">gini = 0.489</text>\n<text text-anchor=\"middle\" x=\"96\" y=\"-109.8\" font-family=\"Helvetica,sans-Serif\" font-size=\"14.00\">samples = 40</text>\n<text text-anchor=\"middle\" x=\"96\" y=\"-94.8\" font-family=\"Helvetica,sans-Serif\" font-size=\"14.00\">value = [17, 23]</text>\n<text text-anchor=\"middle\" x=\"96\" y=\"-79.8\" font-family=\"Helvetica,sans-Serif\" font-size=\"14.00\">class = Si</text>\n</g>\n<!-- 1&#45;&gt;2 -->\n<g id=\"edge2\" class=\"edge\">\n<title>1&#45;&gt;2</title>\n<path fill=\"none\" stroke=\"black\" d=\"M183.51,-190.91C172.7,-181.47 161.1,-171.34 150,-161.65\"/>\n<polygon fill=\"black\" stroke=\"black\" points=\"152.24,-158.96 142.41,-155.02 147.64,-164.23 152.24,-158.96\"/>\n</g>\n<!-- 15 -->\n<g id=\"node6\" class=\"node\">\n<title>15</title>\n<path fill=\"#e89051\" stroke=\"black\" d=\"M279,-155C279,-155 181,-155 181,-155 175,-155 169,-149 169,-143 169,-143 169,-84 169,-84 169,-78 175,-72 181,-72 181,-72 279,-72 279,-72 285,-72 291,-78 291,-84 291,-84 291,-143 291,-143 291,-149 285,-155 279,-155\"/>\n<text text-anchor=\"middle\" x=\"230\" y=\"-139.8\" font-family=\"Helvetica,sans-Serif\" font-size=\"14.00\">trestbps &lt;= 106.0</text>\n<text text-anchor=\"middle\" x=\"230\" y=\"-124.8\" font-family=\"Helvetica,sans-Serif\" font-size=\"14.00\">gini = 0.191</text>\n<text text-anchor=\"middle\" x=\"230\" y=\"-109.8\" font-family=\"Helvetica,sans-Serif\" font-size=\"14.00\">samples = 75</text>\n<text text-anchor=\"middle\" x=\"230\" y=\"-94.8\" font-family=\"Helvetica,sans-Serif\" font-size=\"14.00\">value = [67, 8]</text>\n<text text-anchor=\"middle\" x=\"230\" y=\"-79.8\" font-family=\"Helvetica,sans-Serif\" font-size=\"14.00\">class = No</text>\n</g>\n<!-- 1&#45;&gt;15 -->\n<g id=\"edge5\" class=\"edge\">\n<title>1&#45;&gt;15</title>\n<path fill=\"none\" stroke=\"black\" d=\"M230,-190.91C230,-182.65 230,-173.86 230,-165.3\"/>\n<polygon fill=\"black\" stroke=\"black\" points=\"233.5,-165.02 230,-155.02 226.5,-165.02 233.5,-165.02\"/>\n</g>\n<!-- 3 -->\n<g id=\"node4\" class=\"node\">\n<title>3</title>\n<path fill=\"#c0c0c0\" stroke=\"black\" d=\"M42,-36C42,-36 12,-36 12,-36 6,-36 0,-30 0,-24 0,-24 0,-12 0,-12 0,-6 6,0 12,0 12,0 42,0 42,0 48,0 54,-6 54,-12 54,-12 54,-24 54,-24 54,-30 48,-36 42,-36\"/>\n<text text-anchor=\"middle\" x=\"27\" y=\"-14.3\" font-family=\"Helvetica,sans-Serif\" font-size=\"14.00\">(...)</text>\n</g>\n<!-- 2&#45;&gt;3 -->\n<g id=\"edge3\" class=\"edge\">\n<title>2&#45;&gt;3</title>\n<path fill=\"none\" stroke=\"black\" d=\"M65.94,-71.76C59.14,-62.56 52.12,-53.04 45.94,-44.66\"/>\n<polygon fill=\"black\" stroke=\"black\" points=\"48.6,-42.37 39.84,-36.41 42.97,-46.53 48.6,-42.37\"/>\n</g>\n<!-- 10 -->\n<g id=\"node5\" class=\"node\">\n<title>10</title>\n<path fill=\"#c0c0c0\" stroke=\"black\" d=\"M114,-36C114,-36 84,-36 84,-36 78,-36 72,-30 72,-24 72,-24 72,-12 72,-12 72,-6 78,0 84,0 84,0 114,0 114,0 120,0 126,-6 126,-12 126,-12 126,-24 126,-24 126,-30 120,-36 114,-36\"/>\n<text text-anchor=\"middle\" x=\"99\" y=\"-14.3\" font-family=\"Helvetica,sans-Serif\" font-size=\"14.00\">(...)</text>\n</g>\n<!-- 2&#45;&gt;10 -->\n<g id=\"edge4\" class=\"edge\">\n<title>2&#45;&gt;10</title>\n<path fill=\"none\" stroke=\"black\" d=\"M97.31,-71.76C97.58,-63.24 97.86,-54.44 98.12,-46.53\"/>\n<polygon fill=\"black\" stroke=\"black\" points=\"101.62,-46.51 98.44,-36.41 94.62,-46.29 101.62,-46.51\"/>\n</g>\n<!-- 16 -->\n<g id=\"node7\" class=\"node\">\n<title>16</title>\n<path fill=\"#c0c0c0\" stroke=\"black\" d=\"M206,-36C206,-36 176,-36 176,-36 170,-36 164,-30 164,-24 164,-24 164,-12 164,-12 164,-6 170,0 176,0 176,0 206,0 206,0 212,0 218,-6 218,-12 218,-12 218,-24 218,-24 218,-30 212,-36 206,-36\"/>\n<text text-anchor=\"middle\" x=\"191\" y=\"-14.3\" font-family=\"Helvetica,sans-Serif\" font-size=\"14.00\">(...)</text>\n</g>\n<!-- 15&#45;&gt;16 -->\n<g id=\"edge6\" class=\"edge\">\n<title>15&#45;&gt;16</title>\n<path fill=\"none\" stroke=\"black\" d=\"M213.01,-71.76C209.33,-62.94 205.53,-53.84 202.15,-45.72\"/>\n<polygon fill=\"black\" stroke=\"black\" points=\"205.34,-44.29 198.26,-36.41 198.88,-46.98 205.34,-44.29\"/>\n</g>\n<!-- 17 -->\n<g id=\"node8\" class=\"node\">\n<title>17</title>\n<path fill=\"#c0c0c0\" stroke=\"black\" d=\"M278,-36C278,-36 248,-36 248,-36 242,-36 236,-30 236,-24 236,-24 236,-12 236,-12 236,-6 242,0 248,0 248,0 278,0 278,0 284,0 290,-6 290,-12 290,-12 290,-24 290,-24 290,-30 284,-36 278,-36\"/>\n<text text-anchor=\"middle\" x=\"263\" y=\"-14.3\" font-family=\"Helvetica,sans-Serif\" font-size=\"14.00\">(...)</text>\n</g>\n<!-- 15&#45;&gt;17 -->\n<g id=\"edge7\" class=\"edge\">\n<title>15&#45;&gt;17</title>\n<path fill=\"none\" stroke=\"black\" d=\"M244.38,-71.76C247.46,-63.04 250.63,-54.04 253.47,-45.99\"/>\n<polygon fill=\"black\" stroke=\"black\" points=\"256.83,-47 256.86,-36.41 250.23,-44.67 256.83,-47\"/>\n</g>\n<!-- 27 -->\n<g id=\"node10\" class=\"node\">\n<title>27</title>\n<path fill=\"#50a9e8\" stroke=\"black\" d=\"M407,-155C407,-155 321,-155 321,-155 315,-155 309,-149 309,-143 309,-143 309,-84 309,-84 309,-78 315,-72 321,-72 321,-72 407,-72 407,-72 413,-72 419,-78 419,-84 419,-84 419,-143 419,-143 419,-149 413,-155 407,-155\"/>\n<text text-anchor=\"middle\" x=\"364\" y=\"-139.8\" font-family=\"Helvetica,sans-Serif\" font-size=\"14.00\">age &lt;= 56.5</text>\n<text text-anchor=\"middle\" x=\"364\" y=\"-124.8\" font-family=\"Helvetica,sans-Serif\" font-size=\"14.00\">gini = 0.188</text>\n<text text-anchor=\"middle\" x=\"364\" y=\"-109.8\" font-family=\"Helvetica,sans-Serif\" font-size=\"14.00\">samples = 95</text>\n<text text-anchor=\"middle\" x=\"364\" y=\"-94.8\" font-family=\"Helvetica,sans-Serif\" font-size=\"14.00\">value = [10, 85]</text>\n<text text-anchor=\"middle\" x=\"364\" y=\"-79.8\" font-family=\"Helvetica,sans-Serif\" font-size=\"14.00\">class = Si</text>\n</g>\n<!-- 26&#45;&gt;27 -->\n<g id=\"edge9\" class=\"edge\">\n<title>26&#45;&gt;27</title>\n<path fill=\"none\" stroke=\"black\" d=\"M364,-190.91C364,-182.65 364,-173.86 364,-165.3\"/>\n<polygon fill=\"black\" stroke=\"black\" points=\"367.5,-165.02 364,-155.02 360.5,-165.02 367.5,-165.02\"/>\n</g>\n<!-- 44 -->\n<g id=\"node13\" class=\"node\">\n<title>44</title>\n<path fill=\"#d3e9f9\" stroke=\"black\" d=\"M543,-155C543,-155 449,-155 449,-155 443,-155 437,-149 437,-143 437,-143 437,-84 437,-84 437,-78 443,-72 449,-72 449,-72 543,-72 543,-72 549,-72 555,-78 555,-84 555,-84 555,-143 555,-143 555,-149 549,-155 543,-155\"/>\n<text text-anchor=\"middle\" x=\"496\" y=\"-139.8\" font-family=\"Helvetica,sans-Serif\" font-size=\"14.00\">thalach &lt;= 142.5</text>\n<text text-anchor=\"middle\" x=\"496\" y=\"-124.8\" font-family=\"Helvetica,sans-Serif\" font-size=\"14.00\">gini = 0.492</text>\n<text text-anchor=\"middle\" x=\"496\" y=\"-109.8\" font-family=\"Helvetica,sans-Serif\" font-size=\"14.00\">samples = 32</text>\n<text text-anchor=\"middle\" x=\"496\" y=\"-94.8\" font-family=\"Helvetica,sans-Serif\" font-size=\"14.00\">value = [14, 18]</text>\n<text text-anchor=\"middle\" x=\"496\" y=\"-79.8\" font-family=\"Helvetica,sans-Serif\" font-size=\"14.00\">class = Si</text>\n</g>\n<!-- 26&#45;&gt;44 -->\n<g id=\"edge12\" class=\"edge\">\n<title>26&#45;&gt;44</title>\n<path fill=\"none\" stroke=\"black\" d=\"M409.8,-190.91C420.34,-181.56 431.65,-171.54 442.49,-161.93\"/>\n<polygon fill=\"black\" stroke=\"black\" points=\"445.12,-164.27 450.28,-155.02 440.48,-159.03 445.12,-164.27\"/>\n</g>\n<!-- 28 -->\n<g id=\"node11\" class=\"node\">\n<title>28</title>\n<path fill=\"#c0c0c0\" stroke=\"black\" d=\"M360,-36C360,-36 330,-36 330,-36 324,-36 318,-30 318,-24 318,-24 318,-12 318,-12 318,-6 324,0 330,0 330,0 360,0 360,0 366,0 372,-6 372,-12 372,-12 372,-24 372,-24 372,-30 366,-36 360,-36\"/>\n<text text-anchor=\"middle\" x=\"345\" y=\"-14.3\" font-family=\"Helvetica,sans-Serif\" font-size=\"14.00\">(...)</text>\n</g>\n<!-- 27&#45;&gt;28 -->\n<g id=\"edge10\" class=\"edge\">\n<title>27&#45;&gt;28</title>\n<path fill=\"none\" stroke=\"black\" d=\"M355.72,-71.76C353.97,-63.14 352.16,-54.24 350.54,-46.26\"/>\n<polygon fill=\"black\" stroke=\"black\" points=\"353.96,-45.51 348.54,-36.41 347.1,-46.9 353.96,-45.51\"/>\n</g>\n<!-- 35 -->\n<g id=\"node12\" class=\"node\">\n<title>35</title>\n<path fill=\"#c0c0c0\" stroke=\"black\" d=\"M432,-36C432,-36 402,-36 402,-36 396,-36 390,-30 390,-24 390,-24 390,-12 390,-12 390,-6 396,0 402,0 402,0 432,0 432,0 438,0 444,-6 444,-12 444,-12 444,-24 444,-24 444,-30 438,-36 432,-36\"/>\n<text text-anchor=\"middle\" x=\"417\" y=\"-14.3\" font-family=\"Helvetica,sans-Serif\" font-size=\"14.00\">(...)</text>\n</g>\n<!-- 27&#45;&gt;35 -->\n<g id=\"edge11\" class=\"edge\">\n<title>27&#45;&gt;35</title>\n<path fill=\"none\" stroke=\"black\" d=\"M387.09,-71.76C392.2,-62.75 397.48,-53.44 402.15,-45.19\"/>\n<polygon fill=\"black\" stroke=\"black\" points=\"405.25,-46.83 407.13,-36.41 399.16,-43.38 405.25,-46.83\"/>\n</g>\n<!-- 45 -->\n<g id=\"node14\" class=\"node\">\n<title>45</title>\n<path fill=\"#c0c0c0\" stroke=\"black\" d=\"M509,-36C509,-36 479,-36 479,-36 473,-36 467,-30 467,-24 467,-24 467,-12 467,-12 467,-6 473,0 479,0 479,0 509,0 509,0 515,0 521,-6 521,-12 521,-12 521,-24 521,-24 521,-30 515,-36 509,-36\"/>\n<text text-anchor=\"middle\" x=\"494\" y=\"-14.3\" font-family=\"Helvetica,sans-Serif\" font-size=\"14.00\">(...)</text>\n</g>\n<!-- 44&#45;&gt;45 -->\n<g id=\"edge13\" class=\"edge\">\n<title>44&#45;&gt;45</title>\n<path fill=\"none\" stroke=\"black\" d=\"M495.13,-71.76C494.95,-63.24 494.76,-54.44 494.59,-46.53\"/>\n<polygon fill=\"black\" stroke=\"black\" points=\"498.09,-46.33 494.37,-36.41 491.09,-46.48 498.09,-46.33\"/>\n</g>\n<!-- 48 -->\n<g id=\"node15\" class=\"node\">\n<title>48</title>\n<path fill=\"#c0c0c0\" stroke=\"black\" d=\"M581,-36C581,-36 551,-36 551,-36 545,-36 539,-30 539,-24 539,-24 539,-12 539,-12 539,-6 545,0 551,0 551,0 581,0 581,0 587,0 593,-6 593,-12 593,-12 593,-24 593,-24 593,-30 587,-36 581,-36\"/>\n<text text-anchor=\"middle\" x=\"566\" y=\"-14.3\" font-family=\"Helvetica,sans-Serif\" font-size=\"14.00\">(...)</text>\n</g>\n<!-- 44&#45;&gt;48 -->\n<g id=\"edge14\" class=\"edge\">\n<title>44&#45;&gt;48</title>\n<path fill=\"none\" stroke=\"black\" d=\"M526.5,-71.76C533.39,-62.56 540.52,-53.04 546.79,-44.66\"/>\n<polygon fill=\"black\" stroke=\"black\" points=\"549.78,-46.51 552.97,-36.41 544.17,-42.31 549.78,-46.51\"/>\n</g>\n</g>\n</svg>\n",
            "text/plain": [
              "<graphviz.sources.Source at 0x7dd342fdd630>"
            ]
          },
          "metadata": {},
          "execution_count": 32
        }
      ]
    },
    {
      "cell_type": "markdown",
      "source": [
        "# Bosques aleatorios\n",
        "## Entrenar modelo"
      ],
      "metadata": {
        "id": "QS1pteriV6N9"
      }
    },
    {
      "cell_type": "code",
      "source": [
        "from sklearn.ensemble import RandomForestClassifier\n",
        "clf = RandomForestClassifier(n_estimators=300, criterion=\"gini\", random_state=7)\n",
        "clf.fit(x_train, y_train)\n",
        "y_predBosque = clf.predict(x_test)\n",
        "print(y_predBosque[0:10]) #Es un numpay array\n",
        "print(y_test[0:10]) #Es una serie\n",
        "#print(clf.score(x_test, y_predBosque))"
      ],
      "metadata": {
        "colab": {
          "base_uri": "https://localhost:8080/"
        },
        "id": "3j9ODhy3WBG1",
        "outputId": "2dfa7165-c44f-41eb-e694-e8d2d45173f3"
      },
      "execution_count": null,
      "outputs": [
        {
          "output_type": "stream",
          "name": "stdout",
          "text": [
            "[1 1 0 1 1 1 1 0 1 1]\n",
            "125    1\n",
            "57     1\n",
            "282    0\n",
            "66     1\n",
            "114    1\n",
            "281    0\n",
            "132    1\n",
            "255    0\n",
            "37     1\n",
            "273    0\n",
            "Name: target, dtype: int64\n"
          ]
        }
      ]
    },
    {
      "cell_type": "markdown",
      "source": [],
      "metadata": {
        "id": "snFIEFjFWATr"
      }
    },
    {
      "cell_type": "code",
      "source": [
        "from sklearn.metrics import confusion_matrix, classification_report, accuracy_score\n",
        "print(\"Accuracy: \", accuracy_score(y_test, y_predBosque))\n",
        "print(\" \")\n",
        "print(\"Confusion Matrix\")\n",
        "print(confusion_matrix(y_test, y_predBosque, labels = [0, 1]))\n",
        "print(\" \")\n",
        "print(\"Classification Report\")\n",
        "print(classification_report(y_test, y_predBosque))"
      ],
      "metadata": {
        "colab": {
          "base_uri": "https://localhost:8080/"
        },
        "id": "QMHVXKTSY-M9",
        "outputId": "e2d26b95-e539-4685-82c4-6da1e42ff4c4"
      },
      "execution_count": null,
      "outputs": [
        {
          "output_type": "stream",
          "name": "stdout",
          "text": [
            "Accuracy:  0.7213114754098361\n",
            " \n",
            "Confusion Matrix\n",
            "[[18 12]\n",
            " [ 5 26]]\n",
            " \n",
            "Classification Report\n",
            "              precision    recall  f1-score   support\n",
            "\n",
            "           0       0.78      0.60      0.68        30\n",
            "           1       0.68      0.84      0.75        31\n",
            "\n",
            "    accuracy                           0.72        61\n",
            "   macro avg       0.73      0.72      0.72        61\n",
            "weighted avg       0.73      0.72      0.72        61\n",
            "\n"
          ]
        }
      ]
    },
    {
      "cell_type": "code",
      "source": [
        "from math import exp\n",
        "from sklearn.tree import export_graphviz\n",
        "import graphviz\n",
        "\n",
        "tree = clf.estimators_[25]\n",
        "graph = export_graphviz(tree, filled=True, rounded =True, class_names=[\"No\", \"Si\"], feature_names = list (x.columns), max_depth=2)\n",
        "graphviz.Source(graph)"
      ],
      "metadata": {
        "colab": {
          "base_uri": "https://localhost:8080/",
          "height": 556
        },
        "id": "VdkKvR3NaBiu",
        "outputId": "84647354-e55d-4caf-ebdb-8354354c4ece"
      },
      "execution_count": null,
      "outputs": [
        {
          "output_type": "execute_result",
          "data": {
            "image/svg+xml": "<?xml version=\"1.0\" encoding=\"UTF-8\" standalone=\"no\"?>\n<!DOCTYPE svg PUBLIC \"-//W3C//DTD SVG 1.1//EN\"\n \"http://www.w3.org/Graphics/SVG/1.1/DTD/svg11.dtd\">\n<!-- Generated by graphviz version 2.43.0 (0)\n -->\n<!-- Title: Tree Pages: 1 -->\n<svg width=\"608pt\" height=\"401pt\"\n viewBox=\"0.00 0.00 608.00 401.00\" xmlns=\"http://www.w3.org/2000/svg\" xmlns:xlink=\"http://www.w3.org/1999/xlink\">\n<g id=\"graph0\" class=\"graph\" transform=\"scale(1 1) rotate(0) translate(4 397)\">\n<title>Tree</title>\n<polygon fill=\"white\" stroke=\"transparent\" points=\"-4,4 -4,-397 604,-397 604,4 -4,4\"/>\n<!-- 0 -->\n<g id=\"node1\" class=\"node\">\n<title>0</title>\n<path fill=\"#d9ecfa\" stroke=\"black\" d=\"M354.5,-393C354.5,-393 253.5,-393 253.5,-393 247.5,-393 241.5,-387 241.5,-381 241.5,-381 241.5,-322 241.5,-322 241.5,-316 247.5,-310 253.5,-310 253.5,-310 354.5,-310 354.5,-310 360.5,-310 366.5,-316 366.5,-322 366.5,-322 366.5,-381 366.5,-381 366.5,-387 360.5,-393 354.5,-393\"/>\n<text text-anchor=\"middle\" x=\"304\" y=\"-377.8\" font-family=\"Helvetica,sans-Serif\" font-size=\"14.00\">exang &lt;= 0.5</text>\n<text text-anchor=\"middle\" x=\"304\" y=\"-362.8\" font-family=\"Helvetica,sans-Serif\" font-size=\"14.00\">gini = 0.494</text>\n<text text-anchor=\"middle\" x=\"304\" y=\"-347.8\" font-family=\"Helvetica,sans-Serif\" font-size=\"14.00\">samples = 148</text>\n<text text-anchor=\"middle\" x=\"304\" y=\"-332.8\" font-family=\"Helvetica,sans-Serif\" font-size=\"14.00\">value = [108, 134]</text>\n<text text-anchor=\"middle\" x=\"304\" y=\"-317.8\" font-family=\"Helvetica,sans-Serif\" font-size=\"14.00\">class = Si</text>\n</g>\n<!-- 1 -->\n<g id=\"node2\" class=\"node\">\n<title>1</title>\n<path fill=\"#89c5ef\" stroke=\"black\" d=\"M281.5,-274C281.5,-274 188.5,-274 188.5,-274 182.5,-274 176.5,-268 176.5,-262 176.5,-262 176.5,-203 176.5,-203 176.5,-197 182.5,-191 188.5,-191 188.5,-191 281.5,-191 281.5,-191 287.5,-191 293.5,-197 293.5,-203 293.5,-203 293.5,-262 293.5,-262 293.5,-268 287.5,-274 281.5,-274\"/>\n<text text-anchor=\"middle\" x=\"235\" y=\"-258.8\" font-family=\"Helvetica,sans-Serif\" font-size=\"14.00\">ca &lt;= 0.5</text>\n<text text-anchor=\"middle\" x=\"235\" y=\"-243.8\" font-family=\"Helvetica,sans-Serif\" font-size=\"14.00\">gini = 0.41</text>\n<text text-anchor=\"middle\" x=\"235\" y=\"-228.8\" font-family=\"Helvetica,sans-Serif\" font-size=\"14.00\">samples = 96</text>\n<text text-anchor=\"middle\" x=\"235\" y=\"-213.8\" font-family=\"Helvetica,sans-Serif\" font-size=\"14.00\">value = [46, 114]</text>\n<text text-anchor=\"middle\" x=\"235\" y=\"-198.8\" font-family=\"Helvetica,sans-Serif\" font-size=\"14.00\">class = Si</text>\n</g>\n<!-- 0&#45;&gt;1 -->\n<g id=\"edge1\" class=\"edge\">\n<title>0&#45;&gt;1</title>\n<path fill=\"none\" stroke=\"black\" d=\"M280.06,-309.91C274.92,-301.2 269.44,-291.9 264.13,-282.89\"/>\n<polygon fill=\"black\" stroke=\"black\" points=\"266.99,-280.86 258.9,-274.02 260.96,-284.41 266.99,-280.86\"/>\n<text text-anchor=\"middle\" x=\"252.65\" y=\"-294.53\" font-family=\"Helvetica,sans-Serif\" font-size=\"14.00\">True</text>\n</g>\n<!-- 54 -->\n<g id=\"node9\" class=\"node\">\n<title>54</title>\n<path fill=\"#edaa79\" stroke=\"black\" d=\"M416,-274C416,-274 330,-274 330,-274 324,-274 318,-268 318,-262 318,-262 318,-203 318,-203 318,-197 324,-191 330,-191 330,-191 416,-191 416,-191 422,-191 428,-197 428,-203 428,-203 428,-262 428,-262 428,-268 422,-274 416,-274\"/>\n<text text-anchor=\"middle\" x=\"373\" y=\"-258.8\" font-family=\"Helvetica,sans-Serif\" font-size=\"14.00\">cp &lt;= 0.5</text>\n<text text-anchor=\"middle\" x=\"373\" y=\"-243.8\" font-family=\"Helvetica,sans-Serif\" font-size=\"14.00\">gini = 0.369</text>\n<text text-anchor=\"middle\" x=\"373\" y=\"-228.8\" font-family=\"Helvetica,sans-Serif\" font-size=\"14.00\">samples = 52</text>\n<text text-anchor=\"middle\" x=\"373\" y=\"-213.8\" font-family=\"Helvetica,sans-Serif\" font-size=\"14.00\">value = [62, 20]</text>\n<text text-anchor=\"middle\" x=\"373\" y=\"-198.8\" font-family=\"Helvetica,sans-Serif\" font-size=\"14.00\">class = No</text>\n</g>\n<!-- 0&#45;&gt;54 -->\n<g id=\"edge8\" class=\"edge\">\n<title>0&#45;&gt;54</title>\n<path fill=\"none\" stroke=\"black\" d=\"M327.94,-309.91C333.08,-301.2 338.56,-291.9 343.87,-282.89\"/>\n<polygon fill=\"black\" stroke=\"black\" points=\"347.04,-284.41 349.1,-274.02 341.01,-280.86 347.04,-284.41\"/>\n<text text-anchor=\"middle\" x=\"355.35\" y=\"-294.53\" font-family=\"Helvetica,sans-Serif\" font-size=\"14.00\">False</text>\n</g>\n<!-- 2 -->\n<g id=\"node3\" class=\"node\">\n<title>2</title>\n<path fill=\"#5dafea\" stroke=\"black\" d=\"M139,-155C139,-155 53,-155 53,-155 47,-155 41,-149 41,-143 41,-143 41,-84 41,-84 41,-78 47,-72 53,-72 53,-72 139,-72 139,-72 145,-72 151,-78 151,-84 151,-84 151,-143 151,-143 151,-149 145,-155 139,-155\"/>\n<text text-anchor=\"middle\" x=\"96\" y=\"-139.8\" font-family=\"Helvetica,sans-Serif\" font-size=\"14.00\">sex &lt;= 0.5</text>\n<text text-anchor=\"middle\" x=\"96\" y=\"-124.8\" font-family=\"Helvetica,sans-Serif\" font-size=\"14.00\">gini = 0.261</text>\n<text text-anchor=\"middle\" x=\"96\" y=\"-109.8\" font-family=\"Helvetica,sans-Serif\" font-size=\"14.00\">samples = 63</text>\n<text text-anchor=\"middle\" x=\"96\" y=\"-94.8\" font-family=\"Helvetica,sans-Serif\" font-size=\"14.00\">value = [17, 93]</text>\n<text text-anchor=\"middle\" x=\"96\" y=\"-79.8\" font-family=\"Helvetica,sans-Serif\" font-size=\"14.00\">class = Si</text>\n</g>\n<!-- 1&#45;&gt;2 -->\n<g id=\"edge2\" class=\"edge\">\n<title>1&#45;&gt;2</title>\n<path fill=\"none\" stroke=\"black\" d=\"M186.77,-190.91C175.56,-181.47 163.53,-171.34 152.01,-161.65\"/>\n<polygon fill=\"black\" stroke=\"black\" points=\"154.04,-158.78 144.14,-155.02 149.54,-164.14 154.04,-158.78\"/>\n</g>\n<!-- 27 -->\n<g id=\"node6\" class=\"node\">\n<title>27</title>\n<path fill=\"#f8dcc8\" stroke=\"black\" d=\"M289,-155C289,-155 181,-155 181,-155 175,-155 169,-149 169,-143 169,-143 169,-84 169,-84 169,-78 175,-72 181,-72 181,-72 289,-72 289,-72 295,-72 301,-78 301,-84 301,-84 301,-143 301,-143 301,-149 295,-155 289,-155\"/>\n<text text-anchor=\"middle\" x=\"235\" y=\"-139.8\" font-family=\"Helvetica,sans-Serif\" font-size=\"14.00\">sex &lt;= 0.5</text>\n<text text-anchor=\"middle\" x=\"235\" y=\"-124.8\" font-family=\"Helvetica,sans-Serif\" font-size=\"14.00\">gini = 0.487</text>\n<text text-anchor=\"middle\" x=\"235\" y=\"-109.8\" font-family=\"Helvetica,sans-Serif\" font-size=\"14.00\">samples = 33</text>\n<text text-anchor=\"middle\" x=\"235\" y=\"-94.8\" font-family=\"Helvetica,sans-Serif\" font-size=\"14.00\">value = [29.0, 21.0]</text>\n<text text-anchor=\"middle\" x=\"235\" y=\"-79.8\" font-family=\"Helvetica,sans-Serif\" font-size=\"14.00\">class = No</text>\n</g>\n<!-- 1&#45;&gt;27 -->\n<g id=\"edge5\" class=\"edge\">\n<title>1&#45;&gt;27</title>\n<path fill=\"none\" stroke=\"black\" d=\"M235,-190.91C235,-182.65 235,-173.86 235,-165.3\"/>\n<polygon fill=\"black\" stroke=\"black\" points=\"238.5,-165.02 235,-155.02 231.5,-165.02 238.5,-165.02\"/>\n</g>\n<!-- 3 -->\n<g id=\"node4\" class=\"node\">\n<title>3</title>\n<path fill=\"#c0c0c0\" stroke=\"black\" d=\"M42,-36C42,-36 12,-36 12,-36 6,-36 0,-30 0,-24 0,-24 0,-12 0,-12 0,-6 6,0 12,0 12,0 42,0 42,0 48,0 54,-6 54,-12 54,-12 54,-24 54,-24 54,-30 48,-36 42,-36\"/>\n<text text-anchor=\"middle\" x=\"27\" y=\"-14.3\" font-family=\"Helvetica,sans-Serif\" font-size=\"14.00\">(...)</text>\n</g>\n<!-- 2&#45;&gt;3 -->\n<g id=\"edge3\" class=\"edge\">\n<title>2&#45;&gt;3</title>\n<path fill=\"none\" stroke=\"black\" d=\"M65.94,-71.76C59.14,-62.56 52.12,-53.04 45.94,-44.66\"/>\n<polygon fill=\"black\" stroke=\"black\" points=\"48.6,-42.37 39.84,-36.41 42.97,-46.53 48.6,-42.37\"/>\n</g>\n<!-- 4 -->\n<g id=\"node5\" class=\"node\">\n<title>4</title>\n<path fill=\"#c0c0c0\" stroke=\"black\" d=\"M114,-36C114,-36 84,-36 84,-36 78,-36 72,-30 72,-24 72,-24 72,-12 72,-12 72,-6 78,0 84,0 84,0 114,0 114,0 120,0 126,-6 126,-12 126,-12 126,-24 126,-24 126,-30 120,-36 114,-36\"/>\n<text text-anchor=\"middle\" x=\"99\" y=\"-14.3\" font-family=\"Helvetica,sans-Serif\" font-size=\"14.00\">(...)</text>\n</g>\n<!-- 2&#45;&gt;4 -->\n<g id=\"edge4\" class=\"edge\">\n<title>2&#45;&gt;4</title>\n<path fill=\"none\" stroke=\"black\" d=\"M97.31,-71.76C97.58,-63.24 97.86,-54.44 98.12,-46.53\"/>\n<polygon fill=\"black\" stroke=\"black\" points=\"101.62,-46.51 98.44,-36.41 94.62,-46.29 101.62,-46.51\"/>\n</g>\n<!-- 28 -->\n<g id=\"node7\" class=\"node\">\n<title>28</title>\n<path fill=\"#c0c0c0\" stroke=\"black\" d=\"M210,-36C210,-36 180,-36 180,-36 174,-36 168,-30 168,-24 168,-24 168,-12 168,-12 168,-6 174,0 180,0 180,0 210,0 210,0 216,0 222,-6 222,-12 222,-12 222,-24 222,-24 222,-30 216,-36 210,-36\"/>\n<text text-anchor=\"middle\" x=\"195\" y=\"-14.3\" font-family=\"Helvetica,sans-Serif\" font-size=\"14.00\">(...)</text>\n</g>\n<!-- 27&#45;&gt;28 -->\n<g id=\"edge6\" class=\"edge\">\n<title>27&#45;&gt;28</title>\n<path fill=\"none\" stroke=\"black\" d=\"M217.57,-71.76C213.8,-62.94 209.9,-53.84 206.43,-45.72\"/>\n<polygon fill=\"black\" stroke=\"black\" points=\"209.6,-44.22 202.45,-36.41 203.16,-46.98 209.6,-44.22\"/>\n</g>\n<!-- 31 -->\n<g id=\"node8\" class=\"node\">\n<title>31</title>\n<path fill=\"#c0c0c0\" stroke=\"black\" d=\"M282,-36C282,-36 252,-36 252,-36 246,-36 240,-30 240,-24 240,-24 240,-12 240,-12 240,-6 246,0 252,0 252,0 282,0 282,0 288,0 294,-6 294,-12 294,-12 294,-24 294,-24 294,-30 288,-36 282,-36\"/>\n<text text-anchor=\"middle\" x=\"267\" y=\"-14.3\" font-family=\"Helvetica,sans-Serif\" font-size=\"14.00\">(...)</text>\n</g>\n<!-- 27&#45;&gt;31 -->\n<g id=\"edge7\" class=\"edge\">\n<title>27&#45;&gt;31</title>\n<path fill=\"none\" stroke=\"black\" d=\"M248.94,-71.76C251.93,-63.04 255.01,-54.04 257.76,-45.99\"/>\n<polygon fill=\"black\" stroke=\"black\" points=\"261.12,-47 261.04,-36.41 254.49,-44.73 261.12,-47\"/>\n</g>\n<!-- 55 -->\n<g id=\"node10\" class=\"node\">\n<title>55</title>\n<path fill=\"#e78a47\" stroke=\"black\" d=\"M414.5,-155C414.5,-155 331.5,-155 331.5,-155 325.5,-155 319.5,-149 319.5,-143 319.5,-143 319.5,-84 319.5,-84 319.5,-78 325.5,-72 331.5,-72 331.5,-72 414.5,-72 414.5,-72 420.5,-72 426.5,-78 426.5,-84 426.5,-84 426.5,-143 426.5,-143 426.5,-149 420.5,-155 414.5,-155\"/>\n<text text-anchor=\"middle\" x=\"373\" y=\"-139.8\" font-family=\"Helvetica,sans-Serif\" font-size=\"14.00\">oldpeak &lt;= 0.4</text>\n<text text-anchor=\"middle\" x=\"373\" y=\"-124.8\" font-family=\"Helvetica,sans-Serif\" font-size=\"14.00\">gini = 0.124</text>\n<text text-anchor=\"middle\" x=\"373\" y=\"-109.8\" font-family=\"Helvetica,sans-Serif\" font-size=\"14.00\">samples = 38</text>\n<text text-anchor=\"middle\" x=\"373\" y=\"-94.8\" font-family=\"Helvetica,sans-Serif\" font-size=\"14.00\">value = [56, 4]</text>\n<text text-anchor=\"middle\" x=\"373\" y=\"-79.8\" font-family=\"Helvetica,sans-Serif\" font-size=\"14.00\">class = No</text>\n</g>\n<!-- 54&#45;&gt;55 -->\n<g id=\"edge9\" class=\"edge\">\n<title>54&#45;&gt;55</title>\n<path fill=\"none\" stroke=\"black\" d=\"M373,-190.91C373,-182.65 373,-173.86 373,-165.3\"/>\n<polygon fill=\"black\" stroke=\"black\" points=\"376.5,-165.02 373,-155.02 369.5,-165.02 376.5,-165.02\"/>\n</g>\n<!-- 64 -->\n<g id=\"node13\" class=\"node\">\n<title>64</title>\n<path fill=\"#83c2ef\" stroke=\"black\" d=\"M551,-155C551,-155 457,-155 457,-155 451,-155 445,-149 445,-143 445,-143 445,-84 445,-84 445,-78 451,-72 457,-72 457,-72 551,-72 551,-72 557,-72 563,-78 563,-84 563,-84 563,-143 563,-143 563,-149 557,-155 551,-155\"/>\n<text text-anchor=\"middle\" x=\"504\" y=\"-139.8\" font-family=\"Helvetica,sans-Serif\" font-size=\"14.00\">thalach &lt;= 120.5</text>\n<text text-anchor=\"middle\" x=\"504\" y=\"-124.8\" font-family=\"Helvetica,sans-Serif\" font-size=\"14.00\">gini = 0.397</text>\n<text text-anchor=\"middle\" x=\"504\" y=\"-109.8\" font-family=\"Helvetica,sans-Serif\" font-size=\"14.00\">samples = 14</text>\n<text text-anchor=\"middle\" x=\"504\" y=\"-94.8\" font-family=\"Helvetica,sans-Serif\" font-size=\"14.00\">value = [6, 16]</text>\n<text text-anchor=\"middle\" x=\"504\" y=\"-79.8\" font-family=\"Helvetica,sans-Serif\" font-size=\"14.00\">class = Si</text>\n</g>\n<!-- 54&#45;&gt;64 -->\n<g id=\"edge12\" class=\"edge\">\n<title>54&#45;&gt;64</title>\n<path fill=\"none\" stroke=\"black\" d=\"M418.45,-190.91C428.92,-181.56 440.14,-171.54 450.9,-161.93\"/>\n<polygon fill=\"black\" stroke=\"black\" points=\"453.5,-164.29 458.63,-155.02 448.84,-159.07 453.5,-164.29\"/>\n</g>\n<!-- 56 -->\n<g id=\"node11\" class=\"node\">\n<title>56</title>\n<path fill=\"#c0c0c0\" stroke=\"black\" d=\"M366,-36C366,-36 336,-36 336,-36 330,-36 324,-30 324,-24 324,-24 324,-12 324,-12 324,-6 330,0 336,0 336,0 366,0 366,0 372,0 378,-6 378,-12 378,-12 378,-24 378,-24 378,-30 372,-36 366,-36\"/>\n<text text-anchor=\"middle\" x=\"351\" y=\"-14.3\" font-family=\"Helvetica,sans-Serif\" font-size=\"14.00\">(...)</text>\n</g>\n<!-- 55&#45;&gt;56 -->\n<g id=\"edge10\" class=\"edge\">\n<title>55&#45;&gt;56</title>\n<path fill=\"none\" stroke=\"black\" d=\"M363.41,-71.76C361.39,-63.14 359.29,-54.24 357.41,-46.26\"/>\n<polygon fill=\"black\" stroke=\"black\" points=\"360.79,-45.34 355.1,-36.41 353.98,-46.94 360.79,-45.34\"/>\n</g>\n<!-- 63 -->\n<g id=\"node12\" class=\"node\">\n<title>63</title>\n<path fill=\"#c0c0c0\" stroke=\"black\" d=\"M438,-36C438,-36 408,-36 408,-36 402,-36 396,-30 396,-24 396,-24 396,-12 396,-12 396,-6 402,0 408,0 408,0 438,0 438,0 444,0 450,-6 450,-12 450,-12 450,-24 450,-24 450,-30 444,-36 438,-36\"/>\n<text text-anchor=\"middle\" x=\"423\" y=\"-14.3\" font-family=\"Helvetica,sans-Serif\" font-size=\"14.00\">(...)</text>\n</g>\n<!-- 55&#45;&gt;63 -->\n<g id=\"edge11\" class=\"edge\">\n<title>55&#45;&gt;63</title>\n<path fill=\"none\" stroke=\"black\" d=\"M394.79,-71.76C399.55,-62.85 404.48,-53.64 408.85,-45.46\"/>\n<polygon fill=\"black\" stroke=\"black\" points=\"412.06,-46.87 413.69,-36.41 405.89,-43.57 412.06,-46.87\"/>\n</g>\n<!-- 65 -->\n<g id=\"node14\" class=\"node\">\n<title>65</title>\n<path fill=\"#c0c0c0\" stroke=\"black\" d=\"M516,-36C516,-36 486,-36 486,-36 480,-36 474,-30 474,-24 474,-24 474,-12 474,-12 474,-6 480,0 486,0 486,0 516,0 516,0 522,0 528,-6 528,-12 528,-12 528,-24 528,-24 528,-30 522,-36 516,-36\"/>\n<text text-anchor=\"middle\" x=\"501\" y=\"-14.3\" font-family=\"Helvetica,sans-Serif\" font-size=\"14.00\">(...)</text>\n</g>\n<!-- 64&#45;&gt;65 -->\n<g id=\"edge13\" class=\"edge\">\n<title>64&#45;&gt;65</title>\n<path fill=\"none\" stroke=\"black\" d=\"M502.69,-71.76C502.42,-63.24 502.14,-54.44 501.88,-46.53\"/>\n<polygon fill=\"black\" stroke=\"black\" points=\"505.38,-46.29 501.56,-36.41 498.38,-46.51 505.38,-46.29\"/>\n</g>\n<!-- 66 -->\n<g id=\"node15\" class=\"node\">\n<title>66</title>\n<path fill=\"#c0c0c0\" stroke=\"black\" d=\"M588,-36C588,-36 558,-36 558,-36 552,-36 546,-30 546,-24 546,-24 546,-12 546,-12 546,-6 552,0 558,0 558,0 588,0 588,0 594,0 600,-6 600,-12 600,-12 600,-24 600,-24 600,-30 594,-36 588,-36\"/>\n<text text-anchor=\"middle\" x=\"573\" y=\"-14.3\" font-family=\"Helvetica,sans-Serif\" font-size=\"14.00\">(...)</text>\n</g>\n<!-- 64&#45;&gt;66 -->\n<g id=\"edge14\" class=\"edge\">\n<title>64&#45;&gt;66</title>\n<path fill=\"none\" stroke=\"black\" d=\"M534.06,-71.76C540.86,-62.56 547.88,-53.04 554.06,-44.66\"/>\n<polygon fill=\"black\" stroke=\"black\" points=\"557.03,-46.53 560.16,-36.41 551.4,-42.37 557.03,-46.53\"/>\n</g>\n</g>\n</svg>\n",
            "text/plain": [
              "<graphviz.sources.Source at 0x7dd341181d20>"
            ]
          },
          "metadata": {},
          "execution_count": 45
        }
      ]
    }
  ]
}