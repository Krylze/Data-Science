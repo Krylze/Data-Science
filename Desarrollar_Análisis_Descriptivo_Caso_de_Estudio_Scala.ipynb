{
  "nbformat": 4,
  "nbformat_minor": 0,
  "metadata": {
    "colab": {
      "provenance": [],
      "authorship_tag": "ABX9TyMDn6vhFX7EbD11TYyIPVLh",
      "include_colab_link": true
    },
    "kernelspec": {
      "name": "python3",
      "display_name": "Python 3"
    },
    "language_info": {
      "name": "python"
    }
  },
  "cells": [
    {
      "cell_type": "markdown",
      "metadata": {
        "id": "view-in-github",
        "colab_type": "text"
      },
      "source": [
        "<a href=\"https://colab.research.google.com/github/Krylze/Data-Science/blob/main/Desarrollar_An%C3%A1lisis_Descriptivo_Caso_de_Estudio_Scala.ipynb\" target=\"_parent\"><img src=\"https://colab.research.google.com/assets/colab-badge.svg\" alt=\"Open In Colab\"/></a>"
      ]
    },
    {
      "cell_type": "code",
      "source": [
        "from google.colab import drive\n",
        "drive.mount('/content/drive')"
      ],
      "metadata": {
        "colab": {
          "base_uri": "https://localhost:8080/"
        },
        "id": "zDuZBaJwzJK4",
        "outputId": "91d9230c-c31d-4578-b2a7-8ed29d8afb63"
      },
      "execution_count": null,
      "outputs": [
        {
          "output_type": "stream",
          "name": "stdout",
          "text": [
            "Mounted at /content/drive\n"
          ]
        }
      ]
    },
    {
      "cell_type": "code",
      "execution_count": null,
      "metadata": {
        "id": "sZede6f3et0v",
        "colab": {
          "base_uri": "https://localhost:8080/"
        },
        "outputId": "f7f29f0d-c9b9-4250-c57d-6b2c0923274b"
      },
      "outputs": [
        {
          "output_type": "stream",
          "name": "stdout",
          "text": [
            "<class 'pandas.core.frame.DataFrame'>\n",
            "RangeIndex: 6200 entries, 0 to 6199\n",
            "Data columns (total 3 columns):\n",
            " #   Column  Non-Null Count  Dtype \n",
            "---  ------  --------------  ----- \n",
            " 0   pid     6200 non-null   int64 \n",
            " 1   user    6200 non-null   object\n",
            " 2   date    6200 non-null   object\n",
            "dtypes: int64(1), object(2)\n",
            "memory usage: 145.4+ KB\n",
            "===============\n",
            "<class 'pandas.core.frame.DataFrame'>\n",
            "RangeIndex: 85588 entries, 0 to 85587\n",
            "Data columns (total 2 columns):\n",
            " #   Column  Non-Null Count  Dtype \n",
            "---  ------  --------------  ----- \n",
            " 0   pid     85588 non-null  int64 \n",
            " 1   file    85588 non-null  object\n",
            "dtypes: int64(1), object(1)\n",
            "memory usage: 1.3+ MB\n"
          ]
        }
      ],
      "source": [
        "import pandas as pd\n",
        "# Cargar datos en dataframes\n",
        "pulls  = pd.read_csv('/content/drive/MyDrive/Ciencia de Datos/Data/pulls.csv')\n",
        "pulls_files = pd.read_csv('/content/drive/MyDrive/Ciencia de Datos/Data/pull_files.csv')\n",
        "pulls.info()\n",
        "print(\"===============\")\n",
        "pulls_files.info()"
      ]
    },
    {
      "cell_type": "code",
      "source": [
        "# Convertir cadenas a Datetime\n",
        "pulls.date = pd.to_datetime(pulls.date, format='%Y-%m-%dT%H:%M:%SZ', errors='coerce')\n",
        "pulls.info()"
      ],
      "metadata": {
        "colab": {
          "base_uri": "https://localhost:8080/"
        },
        "id": "2RuRfg_RxJuH",
        "outputId": "362a9393-6e01-4905-f167-48290387ec9a"
      },
      "execution_count": null,
      "outputs": [
        {
          "output_type": "stream",
          "name": "stdout",
          "text": [
            "<class 'pandas.core.frame.DataFrame'>\n",
            "RangeIndex: 6200 entries, 0 to 6199\n",
            "Data columns (total 3 columns):\n",
            " #   Column  Non-Null Count  Dtype         \n",
            "---  ------  --------------  -----         \n",
            " 0   pid     6200 non-null   int64         \n",
            " 1   user    6200 non-null   object        \n",
            " 2   date    6200 non-null   datetime64[ns]\n",
            "dtypes: datetime64[ns](1), int64(1), object(1)\n",
            "memory usage: 145.4+ KB\n"
          ]
        }
      ]
    },
    {
      "cell_type": "code",
      "source": [
        "# Fusionar DataFrames\n",
        "data = data = pd.merge(pulls, pulls_files, on='pid', how='outer') # usar función pf.merge tome en cuenta la columna pid de ambos dataframes\n",
        "data.sample(5)"
      ],
      "metadata": {
        "colab": {
          "base_uri": "https://localhost:8080/",
          "height": 206
        },
        "id": "Uyr-mGXgxN5W",
        "outputId": "0177b013-fe83-4630-d51e-8c9e00f1bec4"
      },
      "execution_count": null,
      "outputs": [
        {
          "output_type": "execute_result",
          "data": {
            "text/plain": [
              "             pid      user                date  \\\n",
              "82187  117896913     lrytz 2017-04-27 09:34:39   \n",
              "3052     1117629      dlwh 2012-04-06 05:30:48   \n",
              "499       617481  jsuereth 2011-12-21 01:29:07   \n",
              "1629      835721  dcsobral 2012-02-15 22:19:39   \n",
              "24278    2919907     paulp 2012-11-07 21:13:47   \n",
              "\n",
              "                                                   file  \n",
              "82187  src/reflect/scala/reflect/internal/TreeGen.scala  \n",
              "3052      src/compiler/scala/tools/cmd/FromString.scala  \n",
              "499                         project/project/Build.scala  \n",
              "1629      src/library/scala/sys/process/ProcessIO.scala  \n",
              "24278     src/compiler/scala/tools/nsc/io/Pickler.scala  "
            ],
            "text/html": [
              "\n",
              "  <div id=\"df-0cdc42aa-4983-470f-920b-725b757cc7ef\" class=\"colab-df-container\">\n",
              "    <div>\n",
              "<style scoped>\n",
              "    .dataframe tbody tr th:only-of-type {\n",
              "        vertical-align: middle;\n",
              "    }\n",
              "\n",
              "    .dataframe tbody tr th {\n",
              "        vertical-align: top;\n",
              "    }\n",
              "\n",
              "    .dataframe thead th {\n",
              "        text-align: right;\n",
              "    }\n",
              "</style>\n",
              "<table border=\"1\" class=\"dataframe\">\n",
              "  <thead>\n",
              "    <tr style=\"text-align: right;\">\n",
              "      <th></th>\n",
              "      <th>pid</th>\n",
              "      <th>user</th>\n",
              "      <th>date</th>\n",
              "      <th>file</th>\n",
              "    </tr>\n",
              "  </thead>\n",
              "  <tbody>\n",
              "    <tr>\n",
              "      <th>82187</th>\n",
              "      <td>117896913</td>\n",
              "      <td>lrytz</td>\n",
              "      <td>2017-04-27 09:34:39</td>\n",
              "      <td>src/reflect/scala/reflect/internal/TreeGen.scala</td>\n",
              "    </tr>\n",
              "    <tr>\n",
              "      <th>3052</th>\n",
              "      <td>1117629</td>\n",
              "      <td>dlwh</td>\n",
              "      <td>2012-04-06 05:30:48</td>\n",
              "      <td>src/compiler/scala/tools/cmd/FromString.scala</td>\n",
              "    </tr>\n",
              "    <tr>\n",
              "      <th>499</th>\n",
              "      <td>617481</td>\n",
              "      <td>jsuereth</td>\n",
              "      <td>2011-12-21 01:29:07</td>\n",
              "      <td>project/project/Build.scala</td>\n",
              "    </tr>\n",
              "    <tr>\n",
              "      <th>1629</th>\n",
              "      <td>835721</td>\n",
              "      <td>dcsobral</td>\n",
              "      <td>2012-02-15 22:19:39</td>\n",
              "      <td>src/library/scala/sys/process/ProcessIO.scala</td>\n",
              "    </tr>\n",
              "    <tr>\n",
              "      <th>24278</th>\n",
              "      <td>2919907</td>\n",
              "      <td>paulp</td>\n",
              "      <td>2012-11-07 21:13:47</td>\n",
              "      <td>src/compiler/scala/tools/nsc/io/Pickler.scala</td>\n",
              "    </tr>\n",
              "  </tbody>\n",
              "</table>\n",
              "</div>\n",
              "    <div class=\"colab-df-buttons\">\n",
              "\n",
              "  <div class=\"colab-df-container\">\n",
              "    <button class=\"colab-df-convert\" onclick=\"convertToInteractive('df-0cdc42aa-4983-470f-920b-725b757cc7ef')\"\n",
              "            title=\"Convert this dataframe to an interactive table.\"\n",
              "            style=\"display:none;\">\n",
              "\n",
              "  <svg xmlns=\"http://www.w3.org/2000/svg\" height=\"24px\" viewBox=\"0 -960 960 960\">\n",
              "    <path d=\"M120-120v-720h720v720H120Zm60-500h600v-160H180v160Zm220 220h160v-160H400v160Zm0 220h160v-160H400v160ZM180-400h160v-160H180v160Zm440 0h160v-160H620v160ZM180-180h160v-160H180v160Zm440 0h160v-160H620v160Z\"/>\n",
              "  </svg>\n",
              "    </button>\n",
              "\n",
              "  <style>\n",
              "    .colab-df-container {\n",
              "      display:flex;\n",
              "      gap: 12px;\n",
              "    }\n",
              "\n",
              "    .colab-df-convert {\n",
              "      background-color: #E8F0FE;\n",
              "      border: none;\n",
              "      border-radius: 50%;\n",
              "      cursor: pointer;\n",
              "      display: none;\n",
              "      fill: #1967D2;\n",
              "      height: 32px;\n",
              "      padding: 0 0 0 0;\n",
              "      width: 32px;\n",
              "    }\n",
              "\n",
              "    .colab-df-convert:hover {\n",
              "      background-color: #E2EBFA;\n",
              "      box-shadow: 0px 1px 2px rgba(60, 64, 67, 0.3), 0px 1px 3px 1px rgba(60, 64, 67, 0.15);\n",
              "      fill: #174EA6;\n",
              "    }\n",
              "\n",
              "    .colab-df-buttons div {\n",
              "      margin-bottom: 4px;\n",
              "    }\n",
              "\n",
              "    [theme=dark] .colab-df-convert {\n",
              "      background-color: #3B4455;\n",
              "      fill: #D2E3FC;\n",
              "    }\n",
              "\n",
              "    [theme=dark] .colab-df-convert:hover {\n",
              "      background-color: #434B5C;\n",
              "      box-shadow: 0px 1px 3px 1px rgba(0, 0, 0, 0.15);\n",
              "      filter: drop-shadow(0px 1px 2px rgba(0, 0, 0, 0.3));\n",
              "      fill: #FFFFFF;\n",
              "    }\n",
              "  </style>\n",
              "\n",
              "    <script>\n",
              "      const buttonEl =\n",
              "        document.querySelector('#df-0cdc42aa-4983-470f-920b-725b757cc7ef button.colab-df-convert');\n",
              "      buttonEl.style.display =\n",
              "        google.colab.kernel.accessAllowed ? 'block' : 'none';\n",
              "\n",
              "      async function convertToInteractive(key) {\n",
              "        const element = document.querySelector('#df-0cdc42aa-4983-470f-920b-725b757cc7ef');\n",
              "        const dataTable =\n",
              "          await google.colab.kernel.invokeFunction('convertToInteractive',\n",
              "                                                    [key], {});\n",
              "        if (!dataTable) return;\n",
              "\n",
              "        const docLinkHtml = 'Like what you see? Visit the ' +\n",
              "          '<a target=\"_blank\" href=https://colab.research.google.com/notebooks/data_table.ipynb>data table notebook</a>'\n",
              "          + ' to learn more about interactive tables.';\n",
              "        element.innerHTML = '';\n",
              "        dataTable['output_type'] = 'display_data';\n",
              "        await google.colab.output.renderOutput(dataTable, element);\n",
              "        const docLink = document.createElement('div');\n",
              "        docLink.innerHTML = docLinkHtml;\n",
              "        element.appendChild(docLink);\n",
              "      }\n",
              "    </script>\n",
              "  </div>\n",
              "\n",
              "\n",
              "<div id=\"df-176cc121-4c69-42d9-af39-7015b97506f5\">\n",
              "  <button class=\"colab-df-quickchart\" onclick=\"quickchart('df-176cc121-4c69-42d9-af39-7015b97506f5')\"\n",
              "            title=\"Suggest charts\"\n",
              "            style=\"display:none;\">\n",
              "\n",
              "<svg xmlns=\"http://www.w3.org/2000/svg\" height=\"24px\"viewBox=\"0 0 24 24\"\n",
              "     width=\"24px\">\n",
              "    <g>\n",
              "        <path d=\"M19 3H5c-1.1 0-2 .9-2 2v14c0 1.1.9 2 2 2h14c1.1 0 2-.9 2-2V5c0-1.1-.9-2-2-2zM9 17H7v-7h2v7zm4 0h-2V7h2v10zm4 0h-2v-4h2v4z\"/>\n",
              "    </g>\n",
              "</svg>\n",
              "  </button>\n",
              "\n",
              "<style>\n",
              "  .colab-df-quickchart {\n",
              "      --bg-color: #E8F0FE;\n",
              "      --fill-color: #1967D2;\n",
              "      --hover-bg-color: #E2EBFA;\n",
              "      --hover-fill-color: #174EA6;\n",
              "      --disabled-fill-color: #AAA;\n",
              "      --disabled-bg-color: #DDD;\n",
              "  }\n",
              "\n",
              "  [theme=dark] .colab-df-quickchart {\n",
              "      --bg-color: #3B4455;\n",
              "      --fill-color: #D2E3FC;\n",
              "      --hover-bg-color: #434B5C;\n",
              "      --hover-fill-color: #FFFFFF;\n",
              "      --disabled-bg-color: #3B4455;\n",
              "      --disabled-fill-color: #666;\n",
              "  }\n",
              "\n",
              "  .colab-df-quickchart {\n",
              "    background-color: var(--bg-color);\n",
              "    border: none;\n",
              "    border-radius: 50%;\n",
              "    cursor: pointer;\n",
              "    display: none;\n",
              "    fill: var(--fill-color);\n",
              "    height: 32px;\n",
              "    padding: 0;\n",
              "    width: 32px;\n",
              "  }\n",
              "\n",
              "  .colab-df-quickchart:hover {\n",
              "    background-color: var(--hover-bg-color);\n",
              "    box-shadow: 0 1px 2px rgba(60, 64, 67, 0.3), 0 1px 3px 1px rgba(60, 64, 67, 0.15);\n",
              "    fill: var(--button-hover-fill-color);\n",
              "  }\n",
              "\n",
              "  .colab-df-quickchart-complete:disabled,\n",
              "  .colab-df-quickchart-complete:disabled:hover {\n",
              "    background-color: var(--disabled-bg-color);\n",
              "    fill: var(--disabled-fill-color);\n",
              "    box-shadow: none;\n",
              "  }\n",
              "\n",
              "  .colab-df-spinner {\n",
              "    border: 2px solid var(--fill-color);\n",
              "    border-color: transparent;\n",
              "    border-bottom-color: var(--fill-color);\n",
              "    animation:\n",
              "      spin 1s steps(1) infinite;\n",
              "  }\n",
              "\n",
              "  @keyframes spin {\n",
              "    0% {\n",
              "      border-color: transparent;\n",
              "      border-bottom-color: var(--fill-color);\n",
              "      border-left-color: var(--fill-color);\n",
              "    }\n",
              "    20% {\n",
              "      border-color: transparent;\n",
              "      border-left-color: var(--fill-color);\n",
              "      border-top-color: var(--fill-color);\n",
              "    }\n",
              "    30% {\n",
              "      border-color: transparent;\n",
              "      border-left-color: var(--fill-color);\n",
              "      border-top-color: var(--fill-color);\n",
              "      border-right-color: var(--fill-color);\n",
              "    }\n",
              "    40% {\n",
              "      border-color: transparent;\n",
              "      border-right-color: var(--fill-color);\n",
              "      border-top-color: var(--fill-color);\n",
              "    }\n",
              "    60% {\n",
              "      border-color: transparent;\n",
              "      border-right-color: var(--fill-color);\n",
              "    }\n",
              "    80% {\n",
              "      border-color: transparent;\n",
              "      border-right-color: var(--fill-color);\n",
              "      border-bottom-color: var(--fill-color);\n",
              "    }\n",
              "    90% {\n",
              "      border-color: transparent;\n",
              "      border-bottom-color: var(--fill-color);\n",
              "    }\n",
              "  }\n",
              "</style>\n",
              "\n",
              "  <script>\n",
              "    async function quickchart(key) {\n",
              "      const quickchartButtonEl =\n",
              "        document.querySelector('#' + key + ' button');\n",
              "      quickchartButtonEl.disabled = true;  // To prevent multiple clicks.\n",
              "      quickchartButtonEl.classList.add('colab-df-spinner');\n",
              "      try {\n",
              "        const charts = await google.colab.kernel.invokeFunction(\n",
              "            'suggestCharts', [key], {});\n",
              "      } catch (error) {\n",
              "        console.error('Error during call to suggestCharts:', error);\n",
              "      }\n",
              "      quickchartButtonEl.classList.remove('colab-df-spinner');\n",
              "      quickchartButtonEl.classList.add('colab-df-quickchart-complete');\n",
              "    }\n",
              "    (() => {\n",
              "      let quickchartButtonEl =\n",
              "        document.querySelector('#df-176cc121-4c69-42d9-af39-7015b97506f5 button');\n",
              "      quickchartButtonEl.style.display =\n",
              "        google.colab.kernel.accessAllowed ? 'block' : 'none';\n",
              "    })();\n",
              "  </script>\n",
              "</div>\n",
              "\n",
              "    </div>\n",
              "  </div>\n"
            ],
            "application/vnd.google.colaboratory.intrinsic+json": {
              "type": "dataframe",
              "summary": "{\n  \"name\": \"data\",\n  \"rows\": 5,\n  \"fields\": [\n    {\n      \"column\": \"pid\",\n      \"properties\": {\n        \"dtype\": \"number\",\n        \"std\": 52119176,\n        \"min\": 617481,\n        \"max\": 117896913,\n        \"num_unique_values\": 5,\n        \"samples\": [\n          1117629,\n          2919907,\n          617481\n        ],\n        \"semantic_type\": \"\",\n        \"description\": \"\"\n      }\n    },\n    {\n      \"column\": \"user\",\n      \"properties\": {\n        \"dtype\": \"string\",\n        \"num_unique_values\": 5,\n        \"samples\": [\n          \"dlwh\",\n          \"paulp\",\n          \"jsuereth\"\n        ],\n        \"semantic_type\": \"\",\n        \"description\": \"\"\n      }\n    },\n    {\n      \"column\": \"date\",\n      \"properties\": {\n        \"dtype\": \"date\",\n        \"min\": \"2011-12-21 01:29:07\",\n        \"max\": \"2017-04-27 09:34:39\",\n        \"num_unique_values\": 5,\n        \"samples\": [\n          \"2012-04-06 05:30:48\",\n          \"2012-11-07 21:13:47\",\n          \"2011-12-21 01:29:07\"\n        ],\n        \"semantic_type\": \"\",\n        \"description\": \"\"\n      }\n    },\n    {\n      \"column\": \"file\",\n      \"properties\": {\n        \"dtype\": \"string\",\n        \"num_unique_values\": 5,\n        \"samples\": [\n          \"src/compiler/scala/tools/cmd/FromString.scala\",\n          \"src/compiler/scala/tools/nsc/io/Pickler.scala\",\n          \"project/project/Build.scala\"\n        ],\n        \"semantic_type\": \"\",\n        \"description\": \"\"\n      }\n    }\n  ]\n}"
            }
          },
          "metadata": {},
          "execution_count": 5
        }
      ]
    },
    {
      "cell_type": "code",
      "source": [
        "# Convertir las columnas 'year' y 'month' en una sola columna para el eje x\n",
        "counts['year_month'] = counts['year'].astype(str) + '-' + counts['month'].astype(str)\n",
        "\n",
        "# Graficar resultados utilizando la nueva columna 'year_month' como eje x\n",
        "counts.plot(kind='bar', x='year_month', y='count', figsize=(12, 4)) # plot bar chart with year/month on x-axis and count on y-axis"
      ],
      "metadata": {
        "colab": {
          "base_uri": "https://localhost:8080/",
          "height": 377
        },
        "id": "f_DMfuXpxUNO",
        "outputId": "2f3a272f-00ca-4a54-d3ba-6bea78524038"
      },
      "execution_count": null,
      "outputs": [
        {
          "output_type": "execute_result",
          "data": {
            "text/plain": [
              "<Axes: xlabel='year_month'>"
            ]
          },
          "metadata": {},
          "execution_count": 8
        },
        {
          "output_type": "display_data",
          "data": {
            "text/plain": [
              "<Figure size 1200x400 with 1 Axes>"
            ],
            "image/png": "[encoded data removed]"
          },
          "metadata": {}
        }
      ]
    },
    {
      "cell_type": "code",
      "source": [
        "# Agrupar por usuario y contar la cantidad de pull requests\n",
        "by_user = pulls.groupby('user')['pid'].count().reset_index(name='count')\n",
        "\n",
        "# Graficar histograma de la columna 'count' (cantidad de pull requests por usuario)\n",
        "by_user.plot.hist(column='count', bins=20, figsize=(12, 4))"
      ],
      "metadata": {
        "colab": {
          "base_uri": "https://localhost:8080/",
          "height": 318
        },
        "id": "Vdk4k04HxXS0",
        "outputId": "16bf4c66-eab2-45a9-dbaa-def87be7b263"
      },
      "execution_count": null,
      "outputs": [
        {
          "output_type": "execute_result",
          "data": {
            "text/plain": [
              "<Axes: ylabel='Frequency'>"
            ]
          },
          "metadata": {},
          "execution_count": 9
        },
        {
          "output_type": "display_data",
          "data": {
            "text/plain": [
              "<Figure size 1200x400 with 1 Axes>"
            ],
            "image/png": "[encoded data removed]"
          },
          "metadata": {}
        }
      ]
    },
    {
      "cell_type": "code",
      "source": [
        "# Identificar los últimos 10 pull requests\n",
        "top_ten = pulls.sort_values(by=['date'], ascending=False).head(10) # Sort by 'date' in descending order and take the top 10\n",
        "\n",
        "# Unir top_ten con pull_files usando merge\n",
        "join_pr = pd.merge(top_ten, pulls_files, on='pid') # Merge on the common column 'pid'\n",
        "\n",
        "# Eliminar archivos repetidos\n",
        "files = set(join_pr['file']) # set transforms the 'file' column to a set, removing duplicates\n",
        "\n",
        "# Imprimir resultados\n",
        "files"
      ],
      "metadata": {
        "colab": {
          "base_uri": "https://localhost:8080/"
        },
        "id": "u09xTfuUxk39",
        "outputId": "3e310e8e-4cbe-402b-8212-6a9e96b7b7da"
      },
      "execution_count": null,
      "outputs": [
        {
          "output_type": "execute_result",
          "data": {
            "text/plain": [
              "{'LICENSE',\n",
              " 'doc/LICENSE.md',\n",
              " 'doc/License.rtf',\n",
              " 'project/VersionUtil.scala',\n",
              " 'src/compiler/scala/reflect/reify/phases/Calculate.scala',\n",
              " 'src/compiler/scala/tools/nsc/backend/jvm/BCodeHelpers.scala',\n",
              " 'src/compiler/scala/tools/nsc/backend/jvm/PostProcessor.scala',\n",
              " 'src/compiler/scala/tools/nsc/backend/jvm/analysis/BackendUtils.scala',\n",
              " 'src/compiler/scala/tools/nsc/profile/AsyncHelper.scala',\n",
              " 'src/compiler/scala/tools/nsc/profile/Profiler.scala',\n",
              " 'src/compiler/scala/tools/nsc/symtab/classfile/ClassfileParser.scala',\n",
              " 'src/compiler/scala/tools/nsc/typechecker/Contexts.scala',\n",
              " 'src/library/scala/Predef.scala',\n",
              " 'src/library/scala/concurrent/Lock.scala',\n",
              " 'src/library/scala/util/Properties.scala',\n",
              " 'src/reflect/scala/reflect/internal/pickling/ByteCodecs.scala',\n",
              " 'src/reflect/scala/reflect/internal/tpe/GlbLubs.scala',\n",
              " 'src/scaladoc/scala/tools/nsc/doc/html/page/Entity.scala',\n",
              " 'src/scalap/decoder.properties',\n",
              " 'test/files/neg/leibniz-liskov.check',\n",
              " 'test/files/neg/leibniz-liskov.scala',\n",
              " 'test/files/pos/leibniz-liskov.scala',\n",
              " 'test/files/pos/leibniz_liskov.scala',\n",
              " 'test/files/pos/parallel-classloader.scala',\n",
              " 'test/files/pos/t10568/Converter.java',\n",
              " 'test/files/pos/t10568/Impl.scala',\n",
              " 'test/files/pos/t10686.scala',\n",
              " 'test/files/pos/t5638/Among.java',\n",
              " 'test/files/pos/t5638/Usage.scala',\n",
              " 'test/files/pos/t9291.scala',\n",
              " 'test/files/run/t8348.check',\n",
              " 'test/files/run/t8348/TableColumn.java',\n",
              " 'test/files/run/t8348/TableColumnImpl.java',\n",
              " 'test/files/run/t8348/Test.scala'}"
            ]
          },
          "metadata": {},
          "execution_count": 10
        }
      ]
    },
    {
      "cell_type": "code",
      "source": [
        "# Archivo en el que estamos interesados:\n",
        "file = 'src/compiler/scala/reflect/reify/phases/Calculate.scala'\n",
        "\n",
        "# Identificamos que commits modificaron el archivo\n",
        "file_pr = data[data['file'] == file] # Filtrar data con la columna file igual a la variable file\n",
        "\n",
        "# Contamos el numero de cambios por cada developer\n",
        "developer_num = file_pr.groupby('user')['pid'].count().reset_index(name='count') # Agrupar por usuario, seleccionar columna pid y contar\n",
        "\n",
        "# Imprimir los resultados\n",
        "print(developer_num)"
      ],
      "metadata": {
        "colab": {
          "base_uri": "https://localhost:8080/"
        },
        "id": "d8CzHtd-xnr-",
        "outputId": "db57576f-3b83-4d8f-9b90-4527b9e86290"
      },
      "execution_count": null,
      "outputs": [
        {
          "output_type": "stream",
          "name": "stdout",
          "text": [
            "            user  count\n",
            "0   bjornregnell      1\n",
            "1          densh      1\n",
            "2   gkossakowski      1\n",
            "3         melloc      1\n",
            "4        odersky      2\n",
            "5          paulp      2\n",
            "6       retronym      5\n",
            "7            soc      4\n",
            "8      starblood      1\n",
            "9        xeno-by     11\n",
            "10     zuvizudar      1\n"
          ]
        }
      ]
    },
    {
      "cell_type": "code",
      "source": [
        "# Archivo en el que estamos interesados:\n",
        "file = 'src/compiler/scala/reflect/reify/phases/Calculate.scala'\n",
        "\n",
        "# Seleccionamos los pull request que cambiaron al archivo de interes\n",
        "# usar la variable data\n",
        "file_pr = data[data['file'] == file]\n",
        "\n",
        "# Buscamos los usuarios de las ultimas 10 pull requests\n",
        "users_last_10 = set(file_pr.nlargest(10, 'date')['user'])\n",
        "\n",
        "# Eliminar usuarios repetidos\n",
        "# set_users = set(users_last_10) # No es necesario, ya que users_last_10 ya es un set\n",
        "\n",
        "# Imprimimos resultados\n",
        "print(users_last_10)"
      ],
      "metadata": {
        "colab": {
          "base_uri": "https://localhost:8080/"
        },
        "id": "RBxFwwvJxqSm",
        "outputId": "c51f78c9-6a92-4f1d-c39a-b8099fac24d3"
      },
      "execution_count": null,
      "outputs": [
        {
          "output_type": "stream",
          "name": "stdout",
          "text": [
            "{'retronym', 'starblood', 'zuvizudar', 'bjornregnell', 'xeno-by', 'soc'}\n"
          ]
        }
      ]
    },
    {
      "cell_type": "code",
      "source": [
        "# Los desarrolladores en los que estamos interesados:\n",
        "authors = ['xeno-by', 'soc']\n",
        "\n",
        "# Traer todos los pull requests de esos desarrolladores (pulls):\n",
        "# Investigar método isin de pandas\n",
        "by_author = pulls[pulls['user'].isin(authors)]\n",
        "\n",
        "# Contar el número de pull requests de cada año, agrupar por usuario, año.\n",
        "counts = by_author.groupby(['user', pulls['date'].dt.year])['pid'].count().reset_index(name='count')\n",
        "\n",
        "# Convertir tabla. Los usuarios pasan a columnas, los años a indices y los valores será el conteo de pull requests\n",
        "counts_wide = counts.pivot(index='date', columns='user', values='count')\n",
        "\n",
        "# Grafica de barra de los resultados\n",
        "counts_wide.plot(kind='bar', figsize=(10, 5))"
      ],
      "metadata": {
        "colab": {
          "base_uri": "https://localhost:8080/",
          "height": 493
        },
        "id": "w9Z5CMHPxtJd",
        "outputId": "44981366-59f3-4c24-fd9e-b5841531130e"
      },
      "execution_count": null,
      "outputs": [
        {
          "output_type": "execute_result",
          "data": {
            "text/plain": [
              "<Axes: xlabel='date'>"
            ]
          },
          "metadata": {},
          "execution_count": 13
        },
        {
          "output_type": "display_data",
          "data": {
            "text/plain": [
              "<Figure size 1000x500 with 1 Axes>"
            ],
            "image/png": "[encoded data removed]"
          },
          "metadata": {}
        }
      ]
    },
    {
      "cell_type": "code",
      "source": [
        "authors = ['xeno-by', 'soc']\n",
        "file = 'src/compiler/scala/reflect/reify/phases/Calculate.scala'\n",
        "\n",
        "# Filtrar dataframe por autor. Puede usar la variable data.\n",
        "by_author = data[data['user'].isin(authors)]\n",
        "\n",
        "# Filtrar resultado anterior por determinado archivo\n",
        "by_file = by_author[by_author['file'] == file]\n",
        "\n",
        "# Agrupar y contar el número de pull requests echos por cada usuario en cada año. Agrupar por usuario y año\n",
        "grouped = by_file.groupby(['user', by_file['date'].dt.year])['pid'].count().reset_index(name='count')\n",
        "\n",
        "# Convertir tabla usando pivot table, los index serán el año, las columnas los usuarios, y los valores será el conteo de pid. Valores default 0.\n",
        "by_file_wide = grouped.pivot_table(index='date', columns='user', values='count', fill_value=0)\n",
        "\n",
        "# Grafica de barra de los resultados\n",
        "by_file_wide.plot(kind='bar', figsize=(10, 5))"
      ],
      "metadata": {
        "colab": {
          "base_uri": "https://localhost:8080/",
          "height": 498
        },
        "id": "zbVSplK_xwnY",
        "outputId": "dda69f41-9786-4703-e01e-78086016815a"
      },
      "execution_count": null,
      "outputs": [
        {
          "output_type": "execute_result",
          "data": {
            "text/plain": [
              "<Axes: xlabel='date'>"
            ]
          },
          "metadata": {},
          "execution_count": 14
        },
        {
          "output_type": "display_data",
          "data": {
            "text/plain": [
              "<Figure size 1000x500 with 1 Axes>"
            ],
            "image/png": "[encoded data removed]"
          },
          "metadata": {}
        }
      ]
    }
  ]
}